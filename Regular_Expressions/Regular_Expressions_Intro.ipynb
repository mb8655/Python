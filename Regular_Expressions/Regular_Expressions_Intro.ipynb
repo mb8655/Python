{
  "nbformat": 4,
  "nbformat_minor": 0,
  "metadata": {
    "colab": {
      "provenance": [],
      "authorship_tag": "ABX9TyM7K4FWSjQ1PM5yjY9iXgBd",
      "include_colab_link": true
    },
    "kernelspec": {
      "name": "python3",
      "display_name": "Python 3"
    },
    "language_info": {
      "name": "python"
    }
  },
  "cells": [
    {
      "cell_type": "markdown",
      "metadata": {
        "id": "view-in-github",
        "colab_type": "text"
      },
      "source": [
        "<a href=\"https://colab.research.google.com/github/mb8655/Python/blob/main/Regular_Expressions_Intro.ipynb\" target=\"_parent\"><img src=\"https://colab.research.google.com/assets/colab-badge.svg\" alt=\"Open In Colab\"/></a>"
      ]
    },
    {
      "cell_type": "markdown",
      "source": [
        "#Regular Expressions\n",
        "Regular expressions (regexes or re’s) constitute an extremely powerful, flexible and concise language for matching elements in text ranging from a few characters to complex patterns. While mastering the syntax of the regular expression language does require climbing a learning curve, this learning curve is not particularly steep, and a newcomer can find herself performing useful tasks with regular expressions almost immediately. Efforts spent learning regular expressions quickly pay off--tasks that are well suited for regular expressions abound. Indeed, regular expressions are one of the most useful computer skills, and an absolutely critical tool for data scientists.\n",
        "\n",
        "This document will present basic regular expression syntax and cover common use cases for regular expressions."
      ],
      "metadata": {
        "id": "mB14k7WI7qBW"
      }
    },
    {
      "cell_type": "code",
      "execution_count": 1,
      "metadata": {
        "id": "ysF58wZt7g7Y"
      },
      "outputs": [],
      "source": [
        "# The code below is written in Python to replicate the\n",
        "# behavior of grep, the UNIX utility\n",
        "# We will examine the details of how the code works in a subsequent notebook.\n",
        "# For now, just execute the code, and use the function\n",
        "# grep(regex_expression, name_list) as-is\n",
        "\n",
        "import re\n",
        "\n",
        "def printMatches(text, regex_expression):\n",
        "  BACKGROUND_YELLOW = '\\x1b[43m'\n",
        "  COLOR_RESET  = \"\\x1b[0m\"\n",
        "  regex= re.compile(regex_expression)\n",
        "  matches = regex.finditer(text)\n",
        "  for m in matches:\n",
        "    highlighted  = text[:m.start()] # the string before the regex match\n",
        "    highlighted += BACKGROUND_YELLOW + text[m.start():m.end()] + COLOR_RESET\n",
        "    highlighted += text[m.end():] # the string after the regex match\n",
        "    print(highlighted)\n",
        "\n",
        "def grep(regex_expression, name_list):\n",
        "  for line in name_list:\n",
        "    printMatches(line, regex_expression)"
      ]
    },
    {
      "cell_type": "markdown",
      "source": [
        "## NYC Restaurant Names Data\n",
        "In the notebook, we will demonstrating the various regular expressions using the set of restaurant names from /data/uniquenames.txt."
      ],
      "metadata": {
        "id": "8UerZnOr76_1"
      }
    },
    {
      "cell_type": "code",
      "source": [
        "!pip install -U -q PyMySQL sqlalchemy\n",
        "\n",
        "from sqlalchemy import create_engine\n",
        "import pandas as pd\n",
        "\n",
        "conn_string = 'mysql+pymysql://{user}:{password}@{host}/{db}?charset=utf8mb4'.format(\n",
        "    host = 'db.ipeirotis.org',\n",
        "    user = 'student',\n",
        "    password = 'dwdstudent2025',\n",
        "    db = 'doh_restaurants',\n",
        "    encoding = 'utf8mb4')\n",
        "\n",
        "with create_engine(conn_string).connect() as mysql_conn:\n",
        "  # This query returns back the restaurants in the DOH database\n",
        "  sql = 'SELECT DISTINCT UPPER(DBA) AS DBA FROM restaurants WHERE DBA IS NOT NULL'\n",
        "  uniquenames = pd.read_sql(sql, con=mysql_conn)\n",
        "  uniquenames = uniquenames.DBA.values\n",
        "\n",
        "print(f\"Found {len(uniquenames)} unique restaurants names\")"
      ],
      "metadata": {
        "colab": {
          "base_uri": "https://localhost:8080/"
        },
        "id": "s-COLSId79gK",
        "outputId": "17a1c4df-2a28-4df3-f6a3-ff35061f46bb"
      },
      "execution_count": 2,
      "outputs": [
        {
          "output_type": "stream",
          "name": "stdout",
          "text": [
            "\u001b[?25l   \u001b[90m━━━━━━━━━━━━━━━━━━━━━━━━━━━━━━━━━━━━━━━━\u001b[0m \u001b[32m0.0/45.0 kB\u001b[0m \u001b[31m?\u001b[0m eta \u001b[36m-:--:--\u001b[0m\r\u001b[2K   \u001b[90m━━━━━━━━━━━━━━━━━━━━━━━━━━━━━━━━━━━━━━━━\u001b[0m \u001b[32m45.0/45.0 kB\u001b[0m \u001b[31m3.2 MB/s\u001b[0m eta \u001b[36m0:00:00\u001b[0m\n",
            "\u001b[?25hFound 15721 unique restaurants names\n"
          ]
        }
      ]
    },
    {
      "cell_type": "code",
      "source": [
        "#Let's take a peek at the entries of the uniquenames list:\n",
        "\n",
        "uniquenames[:5]"
      ],
      "metadata": {
        "colab": {
          "base_uri": "https://localhost:8080/"
        },
        "id": "zTfZBybY8GBe",
        "outputId": "8eaac786-dc2e-402a-dd68-172f9b7bb743"
      },
      "execution_count": 3,
      "outputs": [
        {
          "output_type": "execute_result",
          "data": {
            "text/plain": [
              "array(['MORRIS PARK BAKE SHOP', \"WENDY'S\",\n",
              "       'DJ REYNOLDS PUB AND RESTAURANT', 'RIVIERA CATERERS',\n",
              "       \"WILKEN'S FINE FOOD\"], dtype=object)"
            ]
          },
          "metadata": {},
          "execution_count": 3
        }
      ]
    },
    {
      "cell_type": "code",
      "source": [
        "uniquenames[-5:]\n"
      ],
      "metadata": {
        "colab": {
          "base_uri": "https://localhost:8080/"
        },
        "id": "zHLeb7Ou8Ou-",
        "outputId": "ff37aaa6-eb19-4456-eb5a-3c946261e6a8"
      },
      "execution_count": 4,
      "outputs": [
        {
          "output_type": "execute_result",
          "data": {
            "text/plain": [
              "array(['CHEN EXPRESS', 'LA BOMBONIERA', 'PRET', 'TAQUERIA EL TANQUE',\n",
              "       'CAFE ESPRESSO BAR'], dtype=object)"
            ]
          },
          "metadata": {},
          "execution_count": 4
        }
      ]
    },
    {
      "cell_type": "code",
      "source": [
        "#Now, let's see if there are any restaurants with the string 'PANO' in them:\n",
        "\n",
        "grep('PANO', uniquenames)"
      ],
      "metadata": {
        "colab": {
          "base_uri": "https://localhost:8080/"
        },
        "id": "rcdppEgB8TMW",
        "outputId": "ec54c907-2a79-485f-a478-a4bee78e20c9"
      },
      "execution_count": 5,
      "outputs": [
        {
          "output_type": "stream",
          "name": "stdout",
          "text": [
            "LA CANDELA ES\u001b[43mPANO\u001b[0mLA\n",
            "\u001b[43mPANO\u001b[0mRAMA OF MY SILENCE-HEART\n",
            "GOOGLE \u001b[43mPANO\u001b[0mRAMA\n",
            "CIRCULO ES\u001b[43mPANO\u001b[0mL\n",
            "SABOR HIS\u001b[43mPANO\u001b[0m\n",
            "\u001b[43mPANO\u001b[0mRAMA\n"
          ]
        }
      ]
    },
    {
      "cell_type": "markdown",
      "source": [
        "## The atoms\n",
        "The simplest regular expressions are a sequence of atoms. An atom can be any of the following:\n",
        "\n",
        "## single character,\n",
        "a dot,\n",
        "a bracket expression,\n",
        "an anchor.\n",
        "Single character atom\n",
        "A single character atom matches itself.\n",
        "\n",
        "## The . character atom\n",
        "A dot atom matches any single character (except for a new line character \\n).\n",
        "\n",
        "Example: Using single character atoms, and the . atom, let's find all restaurant names that contain the characters AB, followed by any character (.) and then the character D:"
      ],
      "metadata": {
        "id": "Y2SUIpGp8dhf"
      }
    },
    {
      "cell_type": "code",
      "source": [
        "grep('AB.D', uniquenames)\n"
      ],
      "metadata": {
        "colab": {
          "base_uri": "https://localhost:8080/"
        },
        "id": "sGbaXXLv8myE",
        "outputId": "a152af67-5a15-4622-a551-186a14c51c06"
      },
      "execution_count": 6,
      "outputs": [
        {
          "output_type": "stream",
          "name": "stdout",
          "text": [
            "P\u001b[43mABAD\u001b[0mE BAKERY & CAFE\n",
            "CR\u001b[43mAB D\u001b[0mU JOUR XPRESS\n"
          ]
        }
      ]
    },
    {
      "cell_type": "markdown",
      "source": [
        "## Bracket expression atom\n",
        "A bracket expression (defined by square brackets []) defines a set of characters. matches only one single character that can be any of the characters defined in a set. Example: [ABL] matches either A, B, or L.\n",
        "\n",
        "Now, let's use a bracket expression: We want to find restaurants that contain one of the letters A,B,C,X,Y,Z followed by a digit. We specify the set of letters as [ABCXYZ] and the set of digits as [0123456789].\n",
        "\n"
      ],
      "metadata": {
        "id": "SZ528Kw28vDU"
      }
    },
    {
      "cell_type": "code",
      "source": [
        "grep('[ABCXYZ][0123456789]', uniquenames)\n"
      ],
      "metadata": {
        "colab": {
          "base_uri": "https://localhost:8080/"
        },
        "id": "uPWKXjzY8x8A",
        "outputId": "5b65214e-fef4-4ebf-e16c-b94b1e887d04"
      },
      "execution_count": 7,
      "outputs": [
        {
          "output_type": "stream",
          "name": "stdout",
          "text": [
            "\u001b[43mB6\u001b[0m6 CLUB\n",
            "COTTO MARKET-GATE \u001b[43mC3\u001b[0m0\n",
            "LEGEND'S ROOM - O\u001b[43mA3\u001b[0m070\n",
            "CARNAGIE DELI - F\u001b[43mB8\u001b[0m150\n",
            "THE SHACK - C\u001b[43mB8\u001b[0m030 (CB8040)\n",
            "THE SHACK - CB8030 (C\u001b[43mB8\u001b[0m040)\n",
            "MIGHTY QUINN'S BBQ - F\u001b[43mA8\u001b[0m032 (CA8033)\n",
            "MIGHTY QUINN'S BBQ - FA8032 (C\u001b[43mA8\u001b[0m033)\n",
            "GARDEN MARKET EXPRESS - F\u001b[43mA8\u001b[0m150\n",
            "FUKU - F\u001b[43mA6\u001b[0m090\n",
            "BAR AT THE GARDEN (B\u001b[43mA6\u001b[0m110)\n",
            "HAMBURGER, CELEBRITY CHEF, SIMPLY VEGAN F\u001b[43mB6\u001b[0m030 (CB6035)\n",
            "HAMBURGER, CELEBRITY CHEF, SIMPLY VEGAN FB6030 (C\u001b[43mB6\u001b[0m035)\n",
            "MIKE'S HOT HONEY - F\u001b[43mB6\u001b[0m060\n",
            "GLUTEN FREE AT THE GARDEN/TOP DOG/HOT DOG CONCESSIONS - F\u001b[43mB6\u001b[0m140 (CB6142)\n",
            "GLUTEN FREE AT THE GARDEN/TOP DOG/HOT DOG CONCESSIONS - FB6140 (C\u001b[43mB6\u001b[0m142)\n",
            "FRATELLI'S - I\u001b[43mC1\u001b[0m001 (CC1001)\n",
            "FRATELLI'S - IC1001 (C\u001b[43mC1\u001b[0m001)\n",
            "EVENT LEVEL CLUB (DELTA SKY 360 BAR) B\u001b[43mA5\u001b[0m075\n",
            "RAFTERS/PRIME RIB - F\u001b[43mC6\u001b[0m130 (CC6132)\n",
            "RAFTERS/PRIME RIB - FC6130 (C\u001b[43mC6\u001b[0m132)\n",
            "HOT DOG CONCESSION (F\u001b[43mC6\u001b[0m100)\n",
            "THE PRIME RIB, DUNKIN DONUTS - F\u001b[43mA8\u001b[0m040 (CA8041)\n",
            "THE PRIME RIB, DUNKIN DONUTS - FA8040 (C\u001b[43mA8\u001b[0m041)\n",
            "FOUR SEASONS HOTEL EMPLOYEE CAFETERI\u001b[43mA4\u001b[0m\n",
            "\u001b[43mA1\u001b[0m JAMAICA BREEZE\n",
            "SI\u001b[43mX2\u001b[0m RESTAURANT & BAKERY\n",
            "SK\u001b[43mY5\u001b[0m5 BAR AND GRILL\n"
          ]
        }
      ]
    },
    {
      "cell_type": "markdown",
      "source": [
        "## Brackets and ranges\n",
        "Instead of typing long lists of characters in a bracket expression, we can use the range character: [0-9] is equivalent to [0123456789]. Similarly [A-Z] is equivalent to [ABCDEFGHIJKLMNOPQRSTUVWXYZ]. And [D-T] is equivalent to [DEFGHIJKLMNOPQRST]. (You get the idea.) You can also combine multiple ranges: [a-e1-9] is equivalent to [abcde123456789]. Finally, you can even specify to be excluded from the set using the character (^). For example, [^0-9] matches any character other than a number.\n",
        "\n",
        "For example, let's find restaurants that contain a letter, followed by a number, and then followed by a charather that is not a number:"
      ],
      "metadata": {
        "id": "gXgs7rpt9HHT"
      }
    },
    {
      "cell_type": "code",
      "source": [
        "grep('[A-Z][0-9][^0-9]', uniquenames)\n"
      ],
      "metadata": {
        "colab": {
          "base_uri": "https://localhost:8080/"
        },
        "id": "BAYUQSWo9KS1",
        "outputId": "4b7e43e0-87e4-4dd0-acb4-a76c8d0deb71"
      },
      "execution_count": 8,
      "outputs": [
        {
          "output_type": "stream",
          "name": "stdout",
          "text": [
            "TW\u001b[43mO8T\u001b[0mWO BAR & BURGER\n",
            "RIB \u001b[43mN0.\u001b[0m7\n",
            "B\u001b[43mT4 \u001b[0mAISLE B\n",
            "B\u001b[43mT3 \u001b[0mAISLE A\n",
            "\u001b[43mA1 \u001b[0mJAMAICA BREEZE\n",
            "SI\u001b[43mX2 \u001b[0mRESTAURANT & BAKERY\n",
            "TEAMWORKO\u001b[43mN3 \u001b[0mJUICES\n",
            "\u001b[43mO2 \u001b[0mK-BBQ\n",
            "\u001b[43mV3N\u001b[0mOM CAFE & LOUNGE\n",
            "\u001b[43mL8 \u001b[0mLOUNGE\n",
            "\u001b[43mR2P\u001b[0m\n",
            "JA\u001b[43mM1 \u001b[0mRESTAURANT\n",
            "\u001b[43mF1R\u001b[0mST NYC\n"
          ]
        }
      ]
    },
    {
      "cell_type": "code",
      "source": [
        "# m, we do not want to get results that have a space after the number, so let's also exclude the space character:\n",
        "\n",
        "grep('[A-Z][0-9][^0-9 ]', uniquenames)"
      ],
      "metadata": {
        "colab": {
          "base_uri": "https://localhost:8080/"
        },
        "id": "t7iPu4QV-RGI",
        "outputId": "77e99c4f-753c-44ff-a7e3-e43dd8fc22ad"
      },
      "execution_count": 9,
      "outputs": [
        {
          "output_type": "stream",
          "name": "stdout",
          "text": [
            "TW\u001b[43mO8T\u001b[0mWO BAR & BURGER\n",
            "RIB \u001b[43mN0.\u001b[0m7\n",
            "\u001b[43mV3N\u001b[0mOM CAFE & LOUNGE\n",
            "\u001b[43mR2P\u001b[0m\n",
            "\u001b[43mF1R\u001b[0mST NYC\n"
          ]
        }
      ]
    },
    {
      "cell_type": "code",
      "source": [
        "# Digit, not letter not digit not space, digit\n",
        "grep('[0-9][^A-Z0-9 ][0-9]', uniquenames)"
      ],
      "metadata": {
        "colab": {
          "base_uri": "https://localhost:8080/"
        },
        "id": "yAvX_-6h-Xtq",
        "outputId": "b334758d-ed86-4bdf-8fb1-eaf6a508604e"
      },
      "execution_count": 10,
      "outputs": [
        {
          "output_type": "stream",
          "name": "stdout",
          "text": [
            "10\u001b[43m4-0\u001b[0m1 FOSTER AVENUE COFFEE SHOP(UPS)\n",
            "SUNSWICK 3\u001b[43m5/3\u001b[0m5\n",
            "RIB N\u001b[43m0.7\u001b[0m\n",
            "\u001b[43m1.5\u001b[0m0 HOT PIZZA\n",
            "\u001b[43m1.5\u001b[0m DAK GALBI\n",
            "CHAIKHANA \u001b[43m7:4\u001b[0m0\n",
            "$\u001b[43m1.5\u001b[0m0 FRESH PIZZA & HOT DOG\n",
            "THERAPY WINE BAR \u001b[43m2.0\u001b[0m\n",
            "10\u001b[43m4-0\u001b[0m1 FOSTER AVENUE COFFEE SHOP(UPS)\n",
            "SUNSWICK 3\u001b[43m5/3\u001b[0m5\n",
            "RIB N\u001b[43m0.7\u001b[0m\n",
            "\u001b[43m1.5\u001b[0m0 HOT PIZZA\n",
            "\u001b[43m1.5\u001b[0m DAK GALBI\n",
            "CHAIKHANA \u001b[43m7:4\u001b[0m0\n",
            "$\u001b[43m1.5\u001b[0m0 FRESH PIZZA & HOT DOG\n",
            "THERAPY WINE BAR \u001b[43m2.0\u001b[0m\n"
          ]
        }
      ]
    },
    {
      "cell_type": "code",
      "source": [
        "\n",
        "# Restaurants with five digits\n",
        "grep('[0-9][0-9][0-9][0-9][0-9]', uniquenames)"
      ],
      "metadata": {
        "colab": {
          "base_uri": "https://localhost:8080/"
        },
        "id": "VTdEJHHP-dI_",
        "outputId": "f8a226ce-3486-43a4-f8eb-296a671e0085"
      },
      "execution_count": 11,
      "outputs": [
        {
          "output_type": "stream",
          "name": "stdout",
          "text": [
            "STARBUCKS COFFEE # \u001b[43m26528\u001b[0m\n",
            "STARBUCKS COFFEE #\u001b[43m22716\u001b[0m\n",
            "STARBUCKS COFFEE #\u001b[43m23591\u001b[0m\n",
            "SUBWAY #\u001b[43m47857\u001b[0m\n",
            "STARBUCKS COFFEE #\u001b[43m29856\u001b[0m\n",
            "STARBUCKS COFFEE COMPANY #\u001b[43m29897\u001b[0m\n",
            "STARBUCKS COFFEE #\u001b[43m48170\u001b[0m\n",
            "STARBUCKS (STORE #\u001b[43m50483\u001b[0m)\n",
            "STARBUCKS COFFEE #\u001b[43m49952\u001b[0m\n",
            "STARBUCKS #\u001b[43m50611\u001b[0m\n",
            "STARBUCKS COFFEE # \u001b[43m49196\u001b[0m\n",
            "STARBUCKS #\u001b[43m48990\u001b[0m\n",
            "STARBUCKS COFFEE #\u001b[43m49550\u001b[0m\n",
            "MCDONALD'S #\u001b[43m11542\u001b[0m\n",
            "MCDONALD'S #\u001b[43m13068\u001b[0m\n",
            "MCDONALDS # \u001b[43m18093\u001b[0m\n",
            "MCDONALDS \u001b[43m14520\u001b[0m\n",
            "STARBUCKS COFFEE #\u001b[43m50622\u001b[0m\n",
            "SUBWAY STORE #\u001b[43m30214\u001b[0m\n",
            "CARVEL # \u001b[43m10222\u001b[0m4\n",
            "STARBUCKS COFFEE #\u001b[43m29719\u001b[0m\n",
            "STARBUCKS COFFEE #\u001b[43m53473\u001b[0m\n",
            "STARBUCKS COFFEE #\u001b[43m49450\u001b[0m\n",
            "STARBUCKS #\u001b[43m54446\u001b[0m\n",
            "STARBUCKS COFFE #\u001b[43m55085\u001b[0m\n",
            "TACO BELL CANTINA #\u001b[43m03464\u001b[0m6\n",
            "STARBUCKS COFFEE#\u001b[43m54771\u001b[0m\n",
            "CARVEL \u001b[43m10266\u001b[0m4\n",
            "STARBUCKS COFFEE #\u001b[43m52530\u001b[0m\n",
            "TACO BELL # \u001b[43m35457\u001b[0m\n",
            "STARBUCKS COFFEE #\u001b[43m58310\u001b[0m\n",
            "STARBUCKS COFFEE #\u001b[43m56451\u001b[0m\n",
            "STARBUCKS COFFEE #\u001b[43m57774\u001b[0m\n",
            "STARBUCKS COFFEE #\u001b[43m57601\u001b[0m\n",
            "STARBUCKS COFFEE #\u001b[43m58455\u001b[0m\n",
            "TACO BELL CANTINA #\u001b[43m03601\u001b[0m2\n",
            "STARBUCKS COFFEE #\u001b[43m14090\u001b[0m\n",
            "STARBUCKS #\u001b[43m64932\u001b[0m\n",
            "ARAMARK@ACCENTURE #\u001b[43m19261\u001b[0m\n",
            "STARBUCKS COFFEE # \u001b[43m65421\u001b[0m\n",
            "STARBUCKS COFFEE #\u001b[43m65494\u001b[0m\n",
            "STARBUCKS COFFEE #\u001b[43m22596\u001b[0m\n",
            "BURGER KING #\u001b[43m27012\u001b[0m\n",
            "MCDONALD'S #\u001b[43m10407\u001b[0m\n",
            "MCDONALD'S #\u001b[43m14106\u001b[0m\n"
          ]
        }
      ]
    },
    {
      "cell_type": "markdown",
      "source": [
        "## Anchor\n",
        "Anchor atoms are special characters, used to define the location of a regex within a line.\n",
        "\n",
        "The anchor ^ specifies the beginning of a line, the anchor $ specifies the end of a line. The anchor \\b specifies the word boundary.\n",
        "\n",
        "Example: Find restaurant names that start with the characters BAL"
      ],
      "metadata": {
        "id": "Xt7ctoi8-jnQ"
      }
    },
    {
      "cell_type": "code",
      "source": [
        "grep('^BAL', uniquenames)\n"
      ],
      "metadata": {
        "colab": {
          "base_uri": "https://localhost:8080/"
        },
        "id": "BgepR72a-l6W",
        "outputId": "b9b7f6da-07fd-489b-e302-408db699137a"
      },
      "execution_count": 12,
      "outputs": [
        {
          "output_type": "stream",
          "name": "stdout",
          "text": [
            "\u001b[43mBAL\u001b[0mTHAZAR RESTAURANT\n",
            "\u001b[43mBAL\u001b[0mTHAZAR BAKERY\n",
            "\u001b[43mBAL\u001b[0mLATO'S RESTAURANT\n",
            "\u001b[43mBAL\u001b[0mBOA RESTAURANT\n",
            "\u001b[43mBAL\u001b[0mADE\n",
            "\u001b[43mBAL\u001b[0mABOOSTA\n",
            "\u001b[43mBAL\u001b[0mZEM\n",
            "\u001b[43mBAL\u001b[0mVANERA\n",
            "\u001b[43mBAL\u001b[0mADE EASTERN MEDITERRANEAN\n",
            "\u001b[43mBAL\u001b[0mANCERO\n",
            "\u001b[43mBAL\u001b[0mCONY LOUNGE\n"
          ]
        }
      ]
    },
    {
      "cell_type": "code",
      "source": [
        "grep('SQUARE$', uniquenames)\n"
      ],
      "metadata": {
        "colab": {
          "base_uri": "https://localhost:8080/"
        },
        "id": "1HK_hS9r-puq",
        "outputId": "7b6aebd5-0d28-4682-cd51-c09b51f4412a"
      },
      "execution_count": 13,
      "outputs": [
        {
          "output_type": "stream",
          "name": "stdout",
          "text": [
            "MADISON \u001b[43mSQUARE\u001b[0m\n",
            "MERRION \u001b[43mSQUARE\u001b[0m\n",
            "NORTH \u001b[43mSQUARE\u001b[0m\n",
            "HOLIDAY INN EXPRESS NYC TIMES \u001b[43mSQUARE\u001b[0m\n",
            "HAMPTON INN-HERALD \u001b[43mSQUARE\u001b[0m\n",
            "RESIDENCE INN TIMES                                                                           \u001b[43mSQUARE\u001b[0m\n",
            "THE MANHATTAN AT TIMES \u001b[43mSQUARE\u001b[0m\n",
            "HAMPTON INN TIMES \u001b[43mSQUARE\u001b[0m\n",
            "ELEMENT HOTEL TIME \u001b[43mSQUARE\u001b[0m\n",
            "TACOS TIME \u001b[43mSQUARE\u001b[0m\n",
            "HOMEWOOD SUITES BY HILTON NEW YORK MIDTOWN MANHATTAN TIMES \u001b[43mSQUARE\u001b[0m\n",
            "HOTEL RIU PLAZA NEW YORK TIMES \u001b[43mSQUARE\u001b[0m\n",
            "MIAS BAKERY TIMES \u001b[43mSQUARE\u001b[0m\n",
            "ICHIRAN TIMES \u001b[43mSQUARE\u001b[0m\n",
            "SAPPHIRE GENTLEMANS CLUB TIMES \u001b[43mSQUARE\u001b[0m\n",
            "HYATT HERALD \u001b[43mSQUARE\u001b[0m\n",
            "PINNACLE BAGELS ON THE \u001b[43mSQUARE\u001b[0m\n",
            "MAMAN HUDSON \u001b[43mSQUARE\u001b[0m\n",
            "SWEETGREEN HUDSON \u001b[43mSQUARE\u001b[0m\n",
            "AWESUM DIMSUM TIMES \u001b[43mSQUARE\u001b[0m\n",
            "INDIA AT TIMES \u001b[43mSQUARE\u001b[0m\n",
            "HYATT PLACE NEW YORK CITY/TIMES \u001b[43mSQUARE\u001b[0m\n",
            "FUSHIMI AT TIMES \u001b[43mSQUARE\u001b[0m\n"
          ]
        }
      ]
    },
    {
      "cell_type": "code",
      "source": [
        "# All restaurants that end with 4 digits\n",
        "grep('[0-9][0-9][0-9][0-9]$', uniquenames)"
      ],
      "metadata": {
        "colab": {
          "base_uri": "https://localhost:8080/"
        },
        "id": "ofj_OWqf-uPA",
        "outputId": "8331e1f2-24a9-488d-cbfe-9eaeb10481ae"
      },
      "execution_count": 14,
      "outputs": [
        {
          "output_type": "stream",
          "name": "stdout",
          "text": [
            "STARBUCKS #\u001b[43m7277\u001b[0m\n",
            "STARBUCKS COFFEE #\u001b[43m7358\u001b[0m\n",
            "STARBUCKS #\u001b[43m7378\u001b[0m\n",
            "GALLAGHER'S \u001b[43m2000\u001b[0m\n",
            "CARVEL \u001b[43m2848\u001b[0m\n",
            "KAFFE \u001b[43m1668\u001b[0m\n",
            "THE ORIGINAL VINCENT'S ESTABLISH \u001b[43m1904\u001b[0m\n",
            "\u001b[43m1803\u001b[0m\n",
            "CHIPOTLE MEXICAN GRILL #\u001b[43m2211\u001b[0m\n",
            "DUNKIN STORE #\u001b[43m1115\u001b[0m\n",
            "CHIPTOLE MEXICAN GRILL #\u001b[43m2407\u001b[0m\n",
            "LEGEND'S ROOM - OA\u001b[43m3070\u001b[0m\n",
            "CARNAGIE DELI - FB\u001b[43m8150\u001b[0m\n",
            "GARDEN MARKET EXPRESS - FA\u001b[43m8150\u001b[0m\n",
            "FUKU - FA\u001b[43m6090\u001b[0m\n",
            "MIKE'S HOT HONEY - FB\u001b[43m6060\u001b[0m\n",
            "EVENT LEVEL CLUB (DELTA SKY 360 BAR) BA\u001b[43m5075\u001b[0m\n",
            "SUITE 200, \u001b[43m1879\u001b[0m\n",
            "KOBEYAKI/HAMBURGER CELEBRITY CHEF - FD\u001b[43m6010\u001b[0m\n",
            "STARBUCKS COFFEE # 2\u001b[43m6528\u001b[0m\n",
            "STARBUCKS COFFEE #2\u001b[43m2716\u001b[0m\n",
            "STARBUCKS COFFEE #2\u001b[43m3591\u001b[0m\n",
            "SUBWAY #4\u001b[43m7857\u001b[0m\n",
            "CARVEL \u001b[43m1939\u001b[0m\n",
            "CHIPOTLE MEXICAN GRILL #\u001b[43m2308\u001b[0m\n",
            "CHIPOTLE MEXICAN GRILL #\u001b[43m2254\u001b[0m\n",
            "PANDA EXPRESS #\u001b[43m2679\u001b[0m\n",
            "PANDA EXPRESS #\u001b[43m2622\u001b[0m\n",
            "CHIPOTLE MEXCIAN GRILL # \u001b[43m2760\u001b[0m\n",
            "STARBUCKS COFFEE #2\u001b[43m9856\u001b[0m\n",
            "CHIPOTLE MEXICAN GRILL #\u001b[43m2834\u001b[0m\n",
            "MEXICO \u001b[43m2000\u001b[0m\n",
            "CHIPOTLE MEXICAN GRILL #\u001b[43m2838\u001b[0m\n",
            "STARBUCKS COFFEE COMPANY #2\u001b[43m9897\u001b[0m\n",
            "NEW GREAT WALL \u001b[43m1419\u001b[0m\n",
            "CHIPOTLE MEXICAN GRILL #\u001b[43m2570\u001b[0m\n",
            "CHIPOTLE MEXICAN GRILL #\u001b[43m2879\u001b[0m\n",
            "STARBUCKS COFFEE #4\u001b[43m8170\u001b[0m\n",
            "STARBUCKS COFFEE #4\u001b[43m9952\u001b[0m\n",
            "STARBUCKS #5\u001b[43m0611\u001b[0m\n",
            "STARBUCKS COFFEE # 4\u001b[43m9196\u001b[0m\n",
            "STARBUCKS #4\u001b[43m8990\u001b[0m\n",
            "STARBUCKS COFFEE #4\u001b[43m9550\u001b[0m\n",
            "MCDONALD'S #\u001b[43m3880\u001b[0m\n",
            "MCDONALD'S #1\u001b[43m1542\u001b[0m\n",
            "MCDONALD'S #1\u001b[43m3068\u001b[0m\n",
            "MCDONALDS # 1\u001b[43m8093\u001b[0m\n",
            "PANDA EXPRESS # \u001b[43m2792\u001b[0m\n",
            "MCDONALDS 1\u001b[43m4520\u001b[0m\n",
            "CHIPOTLE MEXICAN GRILL#\u001b[43m2964\u001b[0m\n",
            "CHIPOTLE MEXICAN GRILL #\u001b[43m3020\u001b[0m\n",
            "PANDA EXPRESS #\u001b[43m2769\u001b[0m\n",
            "STARBUCKS COFFEE #5\u001b[43m0622\u001b[0m\n",
            "SUBWAY STORE #3\u001b[43m0214\u001b[0m\n",
            "CARVEL # 10\u001b[43m2224\u001b[0m\n",
            "STARBUCKS COFFEE #2\u001b[43m9719\u001b[0m\n",
            "STARBUCKS COFFEE #5\u001b[43m3473\u001b[0m\n",
            "FAMILY CAFE \u001b[43m2632\u001b[0m\n",
            "CHIPOTLE MEXICAN GRILL #\u001b[43m2918\u001b[0m\n",
            "STARBUCKS COFFEE #4\u001b[43m9450\u001b[0m\n",
            "STARBUCKS #5\u001b[43m4446\u001b[0m\n",
            "PANDA EXPRESS #\u001b[43m2845\u001b[0m\n",
            "STARBUCKS COFFE #5\u001b[43m5085\u001b[0m\n",
            "CHIPOTLE MEXICAN GRILL #\u001b[43m3044\u001b[0m\n",
            "TACO BELL CANTINA #03\u001b[43m4646\u001b[0m\n",
            "CHIPOTLEMEXICAN GRILL #\u001b[43m2659\u001b[0m\n",
            "CHIPOTLE MEXICAN GRILL # \u001b[43m3265\u001b[0m\n",
            "STARBUCKS COFFEE#5\u001b[43m4771\u001b[0m\n",
            "CHIPOTLE MEXICAN GRILL #\u001b[43m3309\u001b[0m\n",
            "SMASHBURGER #\u001b[43m1712\u001b[0m\n",
            "CARVEL 10\u001b[43m2664\u001b[0m\n",
            "STARBUCKS COFFEE #5\u001b[43m2530\u001b[0m\n",
            "TACO BELL # 3\u001b[43m5457\u001b[0m\n",
            "CHIPOTLE MEXICAN GRILL #\u001b[43m3312\u001b[0m\n",
            "NONNAS \u001b[43m1977\u001b[0m\n",
            "STARBUCKS COFFEE #5\u001b[43m8310\u001b[0m\n",
            "STARBUCKS COFFEE #5\u001b[43m6451\u001b[0m\n",
            "STARBUCKS COFFEE #5\u001b[43m7774\u001b[0m\n",
            "STARBUCKS COFFEE #5\u001b[43m7601\u001b[0m\n",
            "CHIPOTLE MEXICAN GRILL #\u001b[43m3426\u001b[0m\n",
            "STARBUCKS COFFEE #5\u001b[43m8455\u001b[0m\n",
            "CHECKERS STORE #\u001b[43m3332\u001b[0m\n",
            "SMASHBURGER #\u001b[43m1714\u001b[0m\n",
            "SOKU \u001b[43m1546\u001b[0m\n",
            "TACO BELL CANTINA #03\u001b[43m6012\u001b[0m\n",
            "CHIPOTLE MEXICAN GRILL #\u001b[43m3478\u001b[0m\n",
            "STARBUCKS COFFEE #1\u001b[43m4090\u001b[0m\n",
            "CHIPOTLE MEXICAN GRILL #\u001b[43m3544\u001b[0m\n",
            "CHIPOTLE MEXICAN GRILL #\u001b[43m3591\u001b[0m\n",
            "CARVEL # \u001b[43m1429\u001b[0m\n",
            "CHIPOTLE MEXICAN GRILL #\u001b[43m3622\u001b[0m\n",
            "CHIPOTLE MEXICAN GRILL #\u001b[43m3706\u001b[0m\n",
            "YARD HOUSE #\u001b[43m8389\u001b[0m\n",
            "CHIPOTLE MEXICAN GRILL #\u001b[43m3741\u001b[0m\n",
            "FLORIDITA \u001b[43m3865\u001b[0m\n",
            "CHIPOTLE MEXICAN GRILL #\u001b[43m3056\u001b[0m\n",
            "CHIPOTLE MEXICAN GRILL #\u001b[43m3477\u001b[0m\n",
            "CHIPOTLE MEXICAN GRILL #\u001b[43m3483\u001b[0m\n",
            "CAFE \u001b[43m2000\u001b[0m\n",
            "STARBUCKS #6\u001b[43m4932\u001b[0m\n",
            "SMASHBURGER #\u001b[43m1743\u001b[0m\n",
            "ARAMARK@ACCENTURE #1\u001b[43m9261\u001b[0m\n",
            "CHIPOTLE MEXICAN GRILL #\u001b[43m3957\u001b[0m\n",
            "\u001b[43m8282\u001b[0m\n",
            "STARBUCKS COFFEE # 6\u001b[43m5421\u001b[0m\n",
            "SHAKE SHACK #\u001b[43m1340\u001b[0m\n",
            "DOMINO'S PIZZA #\u001b[43m3685\u001b[0m\n",
            "DOMINO'S PIZZA #\u001b[43m3680\u001b[0m\n",
            "DOMINO'S PIZZA #\u001b[43m3687\u001b[0m\n",
            "DOMINO'S PIZZA #\u001b[43m3689\u001b[0m\n",
            "STARBUCKS COFFEE #6\u001b[43m5494\u001b[0m\n",
            "STARBUCKS COFFEE #2\u001b[43m2596\u001b[0m\n",
            "BURGER KING #2\u001b[43m7012\u001b[0m\n",
            "PANERA BREAD #\u001b[43m9330\u001b[0m\n",
            "PANERA BREAD #\u001b[43m9331\u001b[0m\n",
            "MCDONALD'S #1\u001b[43m0407\u001b[0m\n",
            "MCDONALD'S #1\u001b[43m4106\u001b[0m\n",
            "KINGS KITCHEN \u001b[43m2051\u001b[0m\n"
          ]
        }
      ]
    },
    {
      "cell_type": "code",
      "source": [
        " #Let's try to find restaurants containing the word MEXICO:\n",
        "\n",
        "# Note that we capture also words like 'TULCIMEXICO' and 'MEXICOCIANA'\n",
        "grep('MEXICO', uniquenames)"
      ],
      "metadata": {
        "colab": {
          "base_uri": "https://localhost:8080/"
        },
        "id": "rsqOAtw8-6Sc",
        "outputId": "7cd7553c-935f-4335-882f-a1aadcdc5921"
      },
      "execution_count": 15,
      "outputs": [
        {
          "output_type": "stream",
          "name": "stdout",
          "text": [
            "\u001b[43mMEXICO\u001b[0m LINDO RESTAURANT\n",
            "PIAXTLA ES \u001b[43mMEXICO\u001b[0m DELI\n",
            "TACOS \u001b[43mMEXICO\u001b[0m\n",
            "SABOR A \u001b[43mMEXICO\u001b[0m\n",
            "NEW \u001b[43mMEXICO\u001b[0m PLACE\n",
            "SABOR A \u001b[43mMEXICO\u001b[0m II\n",
            "EL SOL DE \u001b[43mMEXICO\u001b[0m DELI GROCERY\n",
            "LAS MARAVILLAS DE \u001b[43mMEXICO\u001b[0m RESTAURANT\n",
            "NUEVO \u001b[43mMEXICO\u001b[0m MEXICAN RESTAURANT\n",
            "SABOR A \u001b[43mMEXICO\u001b[0m TAQUERIA\n",
            "TACOS Y QUESADILLAS \u001b[43mMEXICO\u001b[0m\n",
            "TAQUITOS \u001b[43mMEXICO\u001b[0m RESTAURANT\n",
            "MADE IN \u001b[43mMEXICO\u001b[0m\n",
            "\u001b[43mMEXICO\u001b[0m EN LA PIEL\n",
            "\u001b[43mMEXICO\u001b[0m EL SALVADOR INC\n",
            "\u001b[43mMEXICO\u001b[0m 2000\n",
            "VIVA \u001b[43mMEXICO\u001b[0m MEXICAN CUISINE\n",
            "\u001b[43mMEXICO\u001b[0mCIANA\n",
            "TULCI\u001b[43mMEXICO\u001b[0m RESTAURANT\n",
            "EL RINCON DE \u001b[43mMEXICO\u001b[0m\n",
            "VIVA \u001b[43mMEXICO\u001b[0m\n"
          ]
        }
      ]
    },
    {
      "cell_type": "code",
      "source": [
        "# Notice that adding space is not sufficient\n",
        "grep(' MEXICO ', uniquenames)"
      ],
      "metadata": {
        "colab": {
          "base_uri": "https://localhost:8080/"
        },
        "id": "Nxh842hB-_aK",
        "outputId": "a25f7977-cde2-4a74-c001-bb5f7a6983c6"
      },
      "execution_count": 16,
      "outputs": [
        {
          "output_type": "stream",
          "name": "stdout",
          "text": [
            "PIAXTLA ES\u001b[43m MEXICO \u001b[0mDELI\n",
            "NEW\u001b[43m MEXICO \u001b[0mPLACE\n",
            "SABOR A\u001b[43m MEXICO \u001b[0mII\n",
            "EL SOL DE\u001b[43m MEXICO \u001b[0mDELI GROCERY\n",
            "LAS MARAVILLAS DE\u001b[43m MEXICO \u001b[0mRESTAURANT\n",
            "NUEVO\u001b[43m MEXICO \u001b[0mMEXICAN RESTAURANT\n",
            "SABOR A\u001b[43m MEXICO \u001b[0mTAQUERIA\n",
            "TAQUITOS\u001b[43m MEXICO \u001b[0mRESTAURANT\n",
            "VIVA\u001b[43m MEXICO \u001b[0mMEXICAN CUISINE\n"
          ]
        }
      ]
    },
    {
      "cell_type": "code",
      "source": [
        "# The r'....' is a \"raw\" string, and allows us to enter\n",
        "# backslash without having to \"escape\" the backslash.\n",
        "# Otherwise Python will interpret \\b as a single special\n",
        "# character, and not as two characters \\b that are part of the regex\n",
        "grep(r'\\bMEXICO\\b', uniquenames)"
      ],
      "metadata": {
        "colab": {
          "base_uri": "https://localhost:8080/"
        },
        "id": "WyCFExEF_ECB",
        "outputId": "784cdf95-c8b3-40fd-9814-5e9bf9b4d342"
      },
      "execution_count": 17,
      "outputs": [
        {
          "output_type": "stream",
          "name": "stdout",
          "text": [
            "\u001b[43mMEXICO\u001b[0m LINDO RESTAURANT\n",
            "PIAXTLA ES \u001b[43mMEXICO\u001b[0m DELI\n",
            "TACOS \u001b[43mMEXICO\u001b[0m\n",
            "SABOR A \u001b[43mMEXICO\u001b[0m\n",
            "NEW \u001b[43mMEXICO\u001b[0m PLACE\n",
            "SABOR A \u001b[43mMEXICO\u001b[0m II\n",
            "EL SOL DE \u001b[43mMEXICO\u001b[0m DELI GROCERY\n",
            "LAS MARAVILLAS DE \u001b[43mMEXICO\u001b[0m RESTAURANT\n",
            "NUEVO \u001b[43mMEXICO\u001b[0m MEXICAN RESTAURANT\n",
            "SABOR A \u001b[43mMEXICO\u001b[0m TAQUERIA\n",
            "TACOS Y QUESADILLAS \u001b[43mMEXICO\u001b[0m\n",
            "TAQUITOS \u001b[43mMEXICO\u001b[0m RESTAURANT\n",
            "MADE IN \u001b[43mMEXICO\u001b[0m\n",
            "\u001b[43mMEXICO\u001b[0m EN LA PIEL\n",
            "\u001b[43mMEXICO\u001b[0m EL SALVADOR INC\n",
            "\u001b[43mMEXICO\u001b[0m 2000\n",
            "VIVA \u001b[43mMEXICO\u001b[0m MEXICAN CUISINE\n",
            "EL RINCON DE \u001b[43mMEXICO\u001b[0m\n",
            "VIVA \u001b[43mMEXICO\u001b[0m\n"
          ]
        }
      ]
    },
    {
      "cell_type": "markdown",
      "source": [
        "## Basic Patterns\n",
        "a, X, 9, ....: -- ordinary characters just match themselves exactly.\n",
        ". ^ \\$ * + ? { [ ] \\ | ( ): The meta-characters which do not match themselves because they have special meanings (more info below)\n",
        ". (a period) -- matches any single character except newline '\\n'\n",
        "\\t, \\n, \\r: Special characters, tab, newline, return\n",
        "^ = start, $ = end -- match the start or end of the string\n",
        "\\: inhibit the \"specialness\" of a character. So, for example, use . to match a period or \\ to match a slash. If you are unsure if a character has special meaning, such as '@', you can put a slash in front of it, @, to make sure it is treated just as a character.\n",
        "## Shortcuts\n",
        "A few of the bracket expressions that we discussed above occur very often. For this reason, we have shortcuts for them:\n",
        "\n",
        "\\d: matches the digits: [0-9].\n",
        "\\D: matches anything but \\d: [^0-9].\n",
        "\\w: matches any alphanumeric character plus underscore: [A-Za-z0-9_].\n",
        "\\W: matches anything but \\w: [^A-Za-z0-9_]\n",
        "\\s: matches any \"whitespace\" character (space, tab, newline, etc): [ \\t\\n\\r\\f\\v].\n",
        "\\S: matches anything but \\s: [^ \\t\\n\\r\\f\\v] .\n",
        "\\b: matches the breaks between alphanumeric and non-alphanumeric characters (an empty string), the boundary between \\w and \\W. Useful for ensuring that what you match is actually a word.\n",
        "\\B: matches anything but \\b. Useful for ensuring your match is in the middle of a word.\n",
        "In class exercises\n",
        "Write a regular expression for:\n",
        "\n",
        "Match any character\n",
        "Match the end of line\n",
        "Match any digit\n",
        "Find all characters that are not digits\n",
        "Find all words with four letters\n",
        "Find every line that starts with a digit\n",
        "Find all empty lines\n",
        "Find all lines with 4 characters\n",
        "##Regular Expressions: Operators\n",
        "Alternation |\n",
        "The alternation operator | defines one or more alternatives regular expressions that need to be true for the string to match the regular expression.\n",
        "\n",
        "For example, if we are looking for names that contain either the word GREEK or the word RUSSIAN, we issue the following command:"
      ],
      "metadata": {
        "id": "OzykC7ne_S4C"
      }
    },
    {
      "cell_type": "code",
      "source": [
        "grep('GREEK|RUSSIAN|FRENCH', uniquenames)\n"
      ],
      "metadata": {
        "colab": {
          "base_uri": "https://localhost:8080/"
        },
        "id": "Er78t1nh_RDS",
        "outputId": "eae978d8-9d82-479d-ae3e-464ff79976d4"
      },
      "execution_count": 18,
      "outputs": [
        {
          "output_type": "stream",
          "name": "stdout",
          "text": [
            "SYMPOSIUM \u001b[43mGREEK\u001b[0m RESTAURANT\n",
            "\u001b[43mRUSSIAN\u001b[0m TURKISH BATHS\n",
            "\u001b[43mRUSSIAN\u001b[0m SAMOVAR\n",
            "\u001b[43mFRENCH\u001b[0m ROAST\n",
            "\u001b[43mRUSSIAN\u001b[0m VODKA ROOM\n",
            "JEAN DANET \u001b[43mFRENCH\u001b[0m PASTRY\n",
            "THE \u001b[43mGREEK\u001b[0m KITCHEN\n",
            "\u001b[43mRUSSIAN\u001b[0m BATHS\n",
            "\u001b[43mGREEK\u001b[0m ISLANDS\n",
            "AVLI THE LITTLE \u001b[43mGREEK\u001b[0m TAVERN\n",
            "THE \u001b[43mRUSSIAN\u001b[0m TEA ROOM\n",
            "\u001b[43mGREEK\u001b[0m EXPRESS\n",
            "SOMETHIN\u001b[43mGREEK\u001b[0m\n",
            "VILLAGE TAVERNA \u001b[43mGREEK\u001b[0m GRILL\n",
            "GRK FRESH \u001b[43mGREEK\u001b[0m\n",
            "AVLEE \u001b[43mGREEK\u001b[0m KITCHEN\n",
            "\u001b[43mGREEK\u001b[0m XPRESS\n",
            "\u001b[43mGREEK\u001b[0m FAMILY KITCHEN\n",
            "\u001b[43mFRENCH\u001b[0m LOUIE\n",
            "LE \u001b[43mFRENCH\u001b[0m DINER\n",
            "DIRTY \u001b[43mFRENCH\u001b[0m\n",
            "PARDON MY \u001b[43mFRENCH\u001b[0m\n",
            "\u001b[43mGREEK\u001b[0m EATS\n",
            "EXCUSE MY \u001b[43mFRENCH\u001b[0m\n",
            "3 \u001b[43mGREEK\u001b[0mS GRILL\n",
            "AVLI LITTLE \u001b[43mGREEK\u001b[0m KAFE\n",
            "KUZINA THE \u001b[43mGREEK\u001b[0m KITCHEN\n",
            "\u001b[43mFRENCH\u001b[0mETTE\n",
            "\u001b[43mFRENCH\u001b[0mY COFFEE NYC\n",
            "EONS \u001b[43mGREEK\u001b[0m FOOD FOR LIFE\n",
            "CHEZ LES \u001b[43mFRENCH\u001b[0mIES\n",
            "\u001b[43mGREEK\u001b[0m FROM GREECE\n",
            "L'ALGEROISE \u001b[43mFRENCH\u001b[0m PATISSERIE\n",
            "\u001b[43mFRENCH\u001b[0mETTE BAKERY\n",
            "SIMPLY \u001b[43mGREEK\u001b[0m\n",
            "HOW \u001b[43mGREEK\u001b[0m IT IS AND MORE\n",
            "JEN'S \u001b[43mFRENCH\u001b[0m TOAST\n",
            "PI \u001b[43mGREEK\u001b[0m BAKERIE\n",
            "BROOKLYN \u001b[43mFRENCH\u001b[0m BAKERS\n"
          ]
        }
      ]
    },
    {
      "cell_type": "markdown",
      "source": [
        "##Repetition {m,n}\n",
        "A repetition operator specifies that the atom or expression immediately before the repetition may be repeated. For example, if we are looking for restaurants that contain the letter I, three to five times:"
      ],
      "metadata": {
        "id": "NdWCfubH_oye"
      }
    },
    {
      "cell_type": "code",
      "source": [
        "grep('I{3,5}', uniquenames)\n"
      ],
      "metadata": {
        "colab": {
          "base_uri": "https://localhost:8080/"
        },
        "id": "ll99gd9i_q1H",
        "outputId": "2947cbe5-5743-4413-a020-b51c06c79393"
      },
      "execution_count": 20,
      "outputs": [
        {
          "output_type": "stream",
          "name": "stdout",
          "text": [
            "KNAPP PIZZA \u001b[43mIII\u001b[0m\n",
            "BARZOLA'S RESTAURANT \u001b[43mIII\u001b[0m\n",
            "NEW WIN HING \u001b[43mIII\u001b[0m CHINESE RESTAURANT\n",
            "BAGEL EXPRESS \u001b[43mIII\u001b[0m\n",
            "LITTLE ITALY PIZZA \u001b[43mIII\u001b[0m\n",
            "ROCCO PIZZA \u001b[43mIII\u001b[0m\n",
            "MIRACALI \u001b[43mIII\u001b[0m\n",
            "EL POLLO \u001b[43mIII\u001b[0m\n",
            "CESTRAS PIZZA \u001b[43mIII\u001b[0m\n",
            "EL NUEVO VALLE \u001b[43mIII\u001b[0m\n",
            "PHO RAINBOW \u001b[43mIII\u001b[0m\n",
            "RICO POLLO \u001b[43mIII\u001b[0m\n",
            "AVOCADO SUSHI \u001b[43mIIII\u001b[0m\n",
            "PHO BEST \u001b[43mIII\u001b[0m\n",
            "TROPILYZ \u001b[43mIII\u001b[0m RESTAURANT\n",
            "DENGJI \u001b[43mIIII\u001b[0m RESTAURANT\n",
            "BROTHER \u001b[43mIII\u001b[0m BAKERY\n",
            "GUERRERO'S JUCE BAR \u001b[43mIII\u001b[0m\n"
          ]
        }
      ]
    },
    {
      "cell_type": "code",
      "source": [
        "#Now, let's find all the restaurants that have a name length from 50 to 55 characters:\n",
        "\n",
        "grep('^.{50,55}$', uniquenames)"
      ],
      "metadata": {
        "colab": {
          "base_uri": "https://localhost:8080/"
        },
        "id": "bPVQkolL_wf3",
        "outputId": "ed5c56cb-8641-41df-c1f3-b98c4a56f228"
      },
      "execution_count": 21,
      "outputs": [
        {
          "output_type": "stream",
          "name": "stdout",
          "text": [
            "\u001b[43mVINNY'S OF CARROLL GARDEN RESTAURANT & LUNCHEONETT\u001b[0m\n",
            "\u001b[43mMARRIOTT MARQUIS - MAIN KITCHEN/5TH FLOOR EMPLYEE CAFE\u001b[0m\n",
            "\u001b[43mADVENTURES AMUSEMENTS PARK (ICE CREAM, SWEETS STAND)\u001b[0m\n",
            "\u001b[43mST JOHN'S UNIVERSITY LIBRARY CAFE  (ST.AUGUSTINE HALL)\u001b[0m\n",
            "\u001b[43mCARIBBEAN CONNECTION CATERING SERVICES INC RESTAURANT\u001b[0m\n",
            "\u001b[43mVISTA SKY LOUNGE & CATERING (SHERATON FOUR POINTS)\u001b[0m\n",
            "\u001b[43mRESORTS WORLD CASINO GROUND LEVEL ( EMPLOYEE DINING)\u001b[0m\n",
            "\u001b[43mTHE BIG APPLE (RITZ CARLTON HOTEL EMPLOYEE CAFETERIA)\u001b[0m\n",
            "\u001b[43mBARCLAYS LOWER SUITES TANDUAY BAR SOUTH CLUB LOUNGE\u001b[0m\n",
            "\u001b[43mBUFFALO WILD WINGS, PEETS COFFEE & TEA, BENTO SUSHI\u001b[0m\n",
            "\u001b[43mMANDARIN ORIENTAL NEW YORK- LOBBY LOUNGE 35TH FLOOR\u001b[0m\n",
            "\u001b[43mROOF AT PARK SOUTH (ENTRANCE 125 EAST 27ST, 9TH FL)\u001b[0m\n",
            "\u001b[43mTHE BISTRO AT THE COURTYARD & RESIDENCE INN BY MARRIOTT\u001b[0m\n",
            "\u001b[43mHAMBURGER, CELEBRITY CHEF, SIMPLY VEGAN FB6030 (CB6035)\u001b[0m\n",
            "\u001b[43mLOTTE NEW YORK PALACE - 4TH FLOOR COLD BANQUET KITCHEN\u001b[0m\n",
            "\u001b[43mCOLUMBIA UNIVERSITY BAKER ATHLETICS COMPLEX, STAND #1\u001b[0m\n",
            "\u001b[43mCOLUMBIA UNIVERSITY BAKER ATHLETICS COMPLEX, STAND #2\u001b[0m\n",
            "\u001b[43mCOLUMBIA UNIVERSITY BAKER ATHLETICS COMPLEX, STAND #3\u001b[0m\n",
            "\u001b[43mFORDHAM U - SALT & SESAME AT FACULTY MEMORIAL HALL\u001b[0m\n",
            "\u001b[43mFAIRFIELD INN & SUITES MANHATTAN NEW YORK CENTRAL PARK\u001b[0m\n",
            "\u001b[43mSPECTRUM CATERING AND CONCESSIONS (BROOKLYN STEEL)\u001b[0m\n",
            "\u001b[43mKANGA'S INDOOR PLAYCENTER AND CAFE LONG ISLAND CITY\u001b[0m\n",
            "\u001b[43mCOLLEGE OF MOUNT ST.VINCENT (HUDSON HEIGHTS; 1ST FL)\u001b[0m\n",
            "\u001b[43mKOLOMAN RESTAURANT & LOBBY BAR (IN ACE HOTEL NEW YORK)\u001b[0m\n",
            "\u001b[43mHUMMUS INC BROOKLYN MEDITERRANEAN BAR (DEKALB MARKET)\u001b[0m\n",
            "\u001b[43mLEVY AT JAVITS CENTER- 3411 GARDEN MARKET/MARKETPLACE\u001b[0m\n",
            "\u001b[43mMEXIKO/CARLOS & GABBYS/GRAZE SMOKE HOUSE/ROSA'S CHICKEN\u001b[0m\n",
            "\u001b[43mATLANTIC GRILL (50 W65 ST)/ RAMPOLDI NY (49 W64 ST)\u001b[0m\n",
            "\u001b[43mLICENSE TO CHILL/JOE MERCHANT'S COFFEE & PROVISIONS\u001b[0m\n"
          ]
        }
      ]
    },
    {
      "cell_type": "code",
      "source": [],
      "metadata": {
        "id": "yr4TFqsg_2wY"
      },
      "execution_count": null,
      "outputs": []
    },
    {
      "cell_type": "code",
      "source": [
        "'''In the repetition operator {m,n}, we can skip putting the upper limit if we\n",
        "want to say, \"anything with m matches and above\". For example, let's find all\n",
        "the restaurants that have a name length 60 characters and above:'''\n",
        "\n",
        "grep('^.{60,}$', uniquenames)"
      ],
      "metadata": {
        "colab": {
          "base_uri": "https://localhost:8080/"
        },
        "id": "ligeuYSd_1jG",
        "outputId": "67d7fce8-083e-482a-c2c2-6bf3d8f92115"
      },
      "execution_count": 22,
      "outputs": [
        {
          "output_type": "stream",
          "name": "stdout",
          "text": [
            "\u001b[43mSNACK BAR (LOCATED BETWEEN A-B BETWEEN FANCY FOOD AND MASTERS)\u001b[0m\n",
            "\u001b[43mMAIMONIDES PARK STAND # 110, TIKI BAR/MR SOFTEE/MARTY'S BURGER\u001b[0m\n",
            "\u001b[43mMAIMONIDES PARK STAND #120, PREMIO SAUSAGE/ARANCINI/CHEESESTEAKS/MR. SOFTEE\u001b[0m\n",
            "\u001b[43mFASHION INSTITUTE OF TECHNOLOGY DAVID DUBINSKY STUDENT CENTER\u001b[0m\n",
            "\u001b[43mDELTA SKY CLUB (BARTENDER SERVICE TERMINAL D DELTA DEPARTURE)\u001b[0m\n",
            "\u001b[43mRESIDENCE INN TIMES                                                                           SQUARE\u001b[0m\n",
            "\u001b[43mINTERCONTINENTAL NEW YORK TIMES SQUARE, TODD ENGLISH THE STINGER\u001b[0m\n",
            "\u001b[43mMARLIN BAR AT TOMMY BAHAMA AND TOMMY BAHAMA RESTAURANT AND B\u001b[0m\n",
            "\u001b[43mBRASSIERIE 1605, BROADWAY 49 BAR & LOUNGE (MAIN KITCHEN), GRIND & CO\u001b[0m\n",
            "\u001b[43mTHE PENINSULA NEW YORK, CLEMENT/ THE GOTHAM LOUNGE/ SALON DE NING\u001b[0m\n",
            "\u001b[43mUNION SQUARE SPORTS & ENTERTAINMENT AT THEATRE FOR A NEW AUDIENCE\u001b[0m\n",
            "\u001b[43mFAIRFIELD INN & SUITES NEW YORK MANHATTAN FINANCIAL DISTRICT\u001b[0m\n",
            "\u001b[43mGLUTEN FREE AT THE GARDEN/TOP DOG/HOT DOG CONCESSIONS - FB6140 (CB6142)\u001b[0m\n",
            "\u001b[43mKINGS COUNTY DISTILLERY (GATE HOUSE ON NAVY STREET & PERRY AVE)\u001b[0m\n",
            "\u001b[43mHOMEWOOD SUITES BY HILTON NEW YORK MIDTOWN MANHATTAN TIMES SQUARE\u001b[0m\n",
            "\u001b[43mPOKEWORKS (ENTRANCE IS ON 41ST STREET BETWEEN LEXINGTON & PARK)\u001b[0m\n",
            "\u001b[43mWORLD CUP CAFE (LOCATED INSIDE HUNTER COLLEGE. ENTRANCE IS ON 68TH STREET & LEXINGTON AVE)\u001b[0m\n",
            "\u001b[43mAMERICAN WING CAFE/THE EATERY (PUBLIC CAFETERIA)INSIDE MET MUSEUM\u001b[0m\n",
            "\u001b[43mBAGEL ASSOCIATES (DUNLAP BLDG 102/KIRBY FORENSIC PSYCHIATRIC CENTER)\u001b[0m\n",
            "\u001b[43mBRADDAH'S/DON POKE/LITTLE MINT/LA BIRRIA DE RES/CRAFT BURGER/BUTTERFISH/CRUMBS/BAO WORKS\u001b[0m\n",
            "\u001b[43mEARLY EDITION RESTAURANT, THE PRESS CLUB GRILL, EARLY EDITION COFFEE\u001b[0m\n",
            "\u001b[43mQ CAFE-DINING HALL (NEXT TO RENEE KROLL ZAVIN ALUMNI HALL IN QUEENS COLLEGE)\u001b[0m\n",
            "\u001b[43mHOTEL BARRIERE: FOUQUET RESTAURANT, PAR ICI CAFE, TITSOU LOUNGE, ROOFTOP BAR\u001b[0m\n"
          ]
        }
      ]
    },
    {
      "cell_type": "markdown",
      "source": [
        "##Repetition shortcuts (very common!):\n",
        "* = {0,}. The * character means match the previous atom zero or more times\n",
        "+ = {1,}. The + character means match the previous atom one or more times\n",
        "? = {0,1}. The * character means match the previous atom zero or one times\n",
        "Find all restaurants that start with one or more digits, followed by a space.\n",
        "\n"
      ],
      "metadata": {
        "id": "zrnTNCsdACIU"
      }
    },
    {
      "cell_type": "code",
      "source": [
        "grep('^[0-9]+ ', uniquenames)"
      ],
      "metadata": {
        "colab": {
          "base_uri": "https://localhost:8080/"
        },
        "id": "RLJNfR3fAEBL",
        "outputId": "642eaaf9-b361-4513-b9d6-0642c2a3c284"
      },
      "execution_count": 23,
      "outputs": [
        {
          "output_type": "stream",
          "name": "stdout",
          "text": [
            "\u001b[43m1 \u001b[0mEAST 66TH STREET KITCHEN\n",
            "\u001b[43m5 \u001b[0mBURRO CAFE\n",
            "\u001b[43m1020 \u001b[0mBAR\n",
            "\u001b[43m810 \u001b[0mDELI & CAFE\n",
            "\u001b[43m101 \u001b[0mDELI\n",
            "\u001b[43m44 \u001b[0m& X HELL'S KITCHEN\n",
            "\u001b[43m88 \u001b[0mPALACE RESTAURANT\n",
            "\u001b[43m3 \u001b[0mSISTERS' & SHANTA'S RESTAURANT & BAKERY\n",
            "\u001b[43m68 \u001b[0mJAY STREET BAR\n",
            "\u001b[43m3 \u001b[0mSTAR JUICE CENTER\n",
            "\u001b[43m5 \u001b[0mESTRELLA BAKERY\n",
            "\u001b[43m169 \u001b[0mBAR\n",
            "\u001b[43m809 \u001b[0mGRILL & BAR RESTAURANT\n",
            "\u001b[43m230 \u001b[0mFIFTH\n",
            "\u001b[43m11 \u001b[0mSTREET CAFE\n",
            "\u001b[43m234 \u001b[0mCHINA CITY\n",
            "\u001b[43m27 \u001b[0mSPORTS BAR & CAFE\n",
            "\u001b[43m535 \u001b[0mMADISON CAFE\n",
            "\u001b[43m96 \u001b[0mTEARS\n",
            "\u001b[43m86 \u001b[0mNOODLES\n",
            "\u001b[43m95 \u001b[0mSOUTH\n",
            "\u001b[43m1 \u001b[0mBANANA QUEEN\n",
            "\u001b[43m2 \u001b[0mBROS PIZZA\n",
            "\u001b[43m67 \u001b[0mORANGE STREET\n",
            "\u001b[43m773 \u001b[0mLOUNGE\n",
            "\u001b[43m18 \u001b[0mBAKERY INC\n",
            "\u001b[43m1893 \u001b[0mSPORTS BAR\n",
            "\u001b[43m212 \u001b[0mHISAE'S\n",
            "\u001b[43m69 \u001b[0mBAR LOUNGE\n",
            "\u001b[43m1 \u001b[0mSTOP PATTY SHOP\n",
            "\u001b[43m1001 \u001b[0mNIGHTS CAFE\n",
            "\u001b[43m101 \u001b[0mCAFE\n",
            "\u001b[43m5 \u001b[0mNAPKIN BURGER\n",
            "\u001b[43m2 \u001b[0mBROS PIZZA, CORVO COFFEE\n",
            "\u001b[43m18 \u001b[0mRESTAURANT\n",
            "\u001b[43m94 \u001b[0mCORNER CAFE\n",
            "\u001b[43m888 \u001b[0mKITCHEN\n",
            "\u001b[43m3 \u001b[0mSHEETS SALOON\n",
            "\u001b[43m55 \u001b[0mTHOMAS CAFE\n",
            "\u001b[43m4618 \u001b[0mBAKERY\n",
            "\u001b[43m69 \u001b[0mPIZZERIA\n",
            "\u001b[43m120 \u001b[0mBAY CAFE/CARGO\n",
            "\u001b[43m68 \u001b[0mMEI MEI BAKERY\n",
            "\u001b[43m718 \u001b[0mHOOKAH LOUNGE\n",
            "\u001b[43m54 \u001b[0mBELOW\n",
            "\u001b[43m5 \u001b[0mSTAR VILLAGE CAFE\n",
            "\u001b[43m12 \u001b[0mCORAZONES RESTAURANT & BAR\n",
            "\u001b[43m99 \u001b[0mFAVOR TASTE\n",
            "\u001b[43m401 \u001b[0mLUCKY STAR RESTAURANT\n",
            "\u001b[43m624 \u001b[0mKAM HAI CHINESE FOOD\n",
            "\u001b[43m212 \u001b[0mSTEAKHOUSE\n",
            "\u001b[43m7 \u001b[0mGRAMS CAFFE\n",
            "\u001b[43m99 \u001b[0mCENTS FRESH SLICE PIZZA\n",
            "\u001b[43m19 \u001b[0mCAFE\n",
            "\u001b[43m12 \u001b[0mCHAIRS CAFE\n",
            "\u001b[43m750 \u001b[0mMYRTLE DINER\n",
            "\u001b[43m3 \u001b[0mGUYS SUSHI\n",
            "\u001b[43m99 \u001b[0mROGERS\n",
            "\u001b[43m310 \u001b[0mBOWERY BAR\n",
            "\u001b[43m678 \u001b[0mDELI\n",
            "\u001b[43m345 \u001b[0mCANTINA\n",
            "\u001b[43m3 \u001b[0mGREEKS GRILL\n",
            "\u001b[43m21 \u001b[0mBAR\n",
            "\u001b[43m619 \u001b[0mBAR & RESTAURANT EL SALVADORENO\n",
            "\u001b[43m333 \u001b[0mLOUNGE\n",
            "\u001b[43m3 \u001b[0mIN 1 KITCHEN\n",
            "\u001b[43m22 \u001b[0mSTR CONCESSION STAND\n",
            "\u001b[43m11 \u001b[0mHOWARD KITCHEN\n",
            "\u001b[43m969 \u001b[0mNYC COFFEE\n",
            "\u001b[43m2123 \u001b[0mFRESH TORTILLAS\n",
            "\u001b[43m96 \u001b[0mFAVOR TASTE RESTAURANT\n",
            "\u001b[43m1 \u001b[0mHOTEL BROOKLYN BRIDGE\n",
            "\u001b[43m4 \u001b[0mCHARLES RIB PRIME RIB\n",
            "\u001b[43m69 \u001b[0mLEONARD STREET\n",
            "\u001b[43m1 \u001b[0mHOTEL EMPLOYEE DINING KITCHEN #36\n",
            "\u001b[43m108 \u001b[0mFOOD DRIED HOT POT\n",
            "\u001b[43m39 \u001b[0mKINGS\n",
            "\u001b[43m375 \u001b[0mTHRICE COOKED FRIES\n",
            "\u001b[43m5 \u001b[0mSTAR BANQUET\n",
            "\u001b[43m88 \u001b[0mCANTEEN\n",
            "\u001b[43m101 \u001b[0mWILSON BAR\n",
            "\u001b[43m15 \u001b[0mSTORIES\n",
            "\u001b[43m72 \u001b[0mCIBAO RESTAURANT\n",
            "\u001b[43m876 \u001b[0mCROWN\n",
            "\u001b[43m82 \u001b[0mSTANTON\n",
            "\u001b[43m10 \u001b[0m02 LOUNGE AND RESTAURANT\n",
            "\u001b[43m4 \u001b[0mHEALTHY MINDS\n",
            "\u001b[43m22 \u001b[0mTHAI CUISINE\n",
            "\u001b[43m168 \u001b[0mKIM WEI KITCHEN\n",
            "\u001b[43m21 \u001b[0mGREENPOINT\n",
            "\u001b[43m718 \u001b[0mBISTRO\n",
            "\u001b[43m19 \u001b[0mCLEVELAND BY NISH NUSH\n",
            "\u001b[43m787 \u001b[0mCOFFEE\n",
            "\u001b[43m5 \u001b[0mDE MAYO RESTAURANT\n",
            "\u001b[43m456 \u001b[0mNEW SHANGHAI RESTAURANT\n",
            "\u001b[43m2522 \u001b[0mMOMBAR\n",
            "\u001b[43m39 \u001b[0mTACO HOUSE\n",
            "\u001b[43m77 \u001b[0mBURGER\n",
            "\u001b[43m3 \u001b[0mCOFFEE\n",
            "\u001b[43m789 \u001b[0mCOCINA LATINA RESTAURANT INC.\n",
            "\u001b[43m18 \u001b[0mLOUNGE KTV\n",
            "\u001b[43m16 \u001b[0mHANDLES\n",
            "\u001b[43m272 \u001b[0mUPTOWN PIZZA\n",
            "\u001b[43m1982 \u001b[0mCOFFEE ROASTERS\n",
            "\u001b[43m220 \u001b[0mCENTRAL PARK SOUTH\n",
            "\u001b[43m698 \u001b[0mCAFE\n",
            "\u001b[43m2 \u001b[0mIN 1 RESTAURANT\n",
            "\u001b[43m3 \u001b[0mLUIGI'S PIZZA\n",
            "\u001b[43m251 \u001b[0mGINZA SUSHI\n",
            "\u001b[43m787 \u001b[0mCOFFEE ROASTERS\n",
            "\u001b[43m83 \u001b[0mASIAN\n",
            "\u001b[43m65 \u001b[0mMARKET PLACE\n",
            "\u001b[43m99 \u001b[0mCENTS UTICA HOT PIZZA\n",
            "\u001b[43m86 \u001b[0mBEST BAKERY\n",
            "\u001b[43m99 \u001b[0mCENTS FRESH PIZZA\n",
            "\u001b[43m99 \u001b[0mCENT FRESH PIZZA\n",
            "\u001b[43m99 \u001b[0mCENT TASTY PIZZA\n",
            "\u001b[43m277 \u001b[0mPARK AVENUE CAFE'\n",
            "\u001b[43m5 \u001b[0mSTAR CHEESE STEAK AND PIZZA\n",
            "\u001b[43m77 \u001b[0mWEST BISTRO\n",
            "\u001b[43m369 \u001b[0mBBQ\n",
            "\u001b[43m1392 \u001b[0mSEAFOOD MUSIC BAR\n",
            "\u001b[43m65 \u001b[0mKUHO\n",
            "\u001b[43m99 \u001b[0mCENT PIZZA\n",
            "\u001b[43m167 \u001b[0mEMPANADAS RD\n",
            "\u001b[43m7 \u001b[0mELEPHANTS\n",
            "\u001b[43m5 \u001b[0mSTAR PIZZA\n",
            "\u001b[43m19 \u001b[0mEMPIRE RESTAURANT\n",
            "\u001b[43m110 \u001b[0mNUTRITION\n",
            "\u001b[43m220 \u001b[0mAFRICAN RESTAURANT\n",
            "\u001b[43m2020 \u001b[0mSABORES LATINOS REST & BAKERY\n",
            "\u001b[43m123 \u001b[0mRAMEN\n",
            "\u001b[43m51 \u001b[0mFRESH BAKERY\n",
            "\u001b[43m99 \u001b[0mCENT DELICIOUS PIZZA\n",
            "\u001b[43m99 \u001b[0mCENT SUPREME PIZZA\n",
            "\u001b[43m161 \u001b[0mLAFAYETTE\n",
            "\u001b[43m888 \u001b[0mBK THAI\n",
            "\u001b[43m123 \u001b[0mMARKET PLACE\n",
            "\u001b[43m75 \u001b[0mBLUE BAR\n",
            "\u001b[43m161 \u001b[0mDELI & GRILL\n",
            "\u001b[43m3 \u001b[0mTIMES\n",
            "\u001b[43m301 \u001b[0m1ST AVE DORM\n",
            "\u001b[43m375 \u001b[0mCHICKEN N FRIES\n",
            "\u001b[43m92 \u001b[0mCHICKEN\n",
            "\u001b[43m99 \u001b[0mCENT SOUTHERN PIZZA\n",
            "\u001b[43m1715 \u001b[0mFIVE STAR RESTAURANT\n",
            "\u001b[43m4 \u001b[0mBOY 99 CENT PIZZA\n",
            "\u001b[43m15 \u001b[0mFLAVORS (FROZEN DLITE)\n",
            "\u001b[43m2521 \u001b[0mEL REY\n",
            "\u001b[43m4 \u001b[0mMILLICAFE & CARRIBEAN CUISINE\n",
            "\u001b[43m787 \u001b[0mCOFFEE CO\n",
            "\u001b[43m99 \u001b[0mNOODLE VILLAGE\n",
            "\u001b[43m245 \u001b[0mFEMME FONTAINE BAR\n",
            "\u001b[43m1050 \u001b[0mCAFE\n",
            "\u001b[43m8090 \u001b[0mTAIWAN CUISINE (#24)\n",
            "\u001b[43m51 \u001b[0mPIZZA\n",
            "\u001b[43m50 \u001b[0mBAY\n"
          ]
        }
      ]
    },
    {
      "cell_type": "code",
      "source": [
        "#Find all restaurants that start with a letter, followed by one or more digits, followed by a space.\n",
        "\n",
        "grep('^[A-Z][0-9]+ ', uniquenames)"
      ],
      "metadata": {
        "colab": {
          "base_uri": "https://localhost:8080/"
        },
        "id": "IPWdJBKDAMNs",
        "outputId": "cf3abd9e-232a-4a60-f286-d181aff93614"
      },
      "execution_count": 24,
      "outputs": [
        {
          "output_type": "stream",
          "name": "stdout",
          "text": [
            "\u001b[43mB66 \u001b[0mCLUB\n",
            "\u001b[43mA1 \u001b[0mJAMAICA BREEZE\n",
            "\u001b[43mO2 \u001b[0mK-BBQ\n",
            "\u001b[43mL8 \u001b[0mLOUNGE\n"
          ]
        }
      ]
    },
    {
      "cell_type": "code",
      "source": [
        "# Find all restaurants\n",
        "# Beggining with one or more letters // ^[A-Z]+\n",
        "# followed by one or more digits // [0-9]+\n",
        "# Followed by any number of charaters // .*\n",
        "# and ending with BAR  // BAR$\n",
        "grep('^[A-Z]+[0-9]+.*BAR$', uniquenames)"
      ],
      "metadata": {
        "id": "t9G0dt0YAQxX"
      },
      "execution_count": 25,
      "outputs": []
    },
    {
      "cell_type": "code",
      "source": [
        "#Find all restaurants that start with the word STARBUCKS, followed by any number\n",
        "#of characters, and then have a digit.\n",
        "\n",
        "grep('STARBUCKS.*[0-9]+', uniquenames)"
      ],
      "metadata": {
        "colab": {
          "base_uri": "https://localhost:8080/"
        },
        "id": "6qeEQivLAUY6",
        "outputId": "faf658c8-4825-42e6-e5a5-74cca4ff0609"
      },
      "execution_count": 26,
      "outputs": [
        {
          "output_type": "stream",
          "name": "stdout",
          "text": [
            "\u001b[43mSTARBUCKS #7277\u001b[0m\n",
            "\u001b[43mSTARBUCKS COFFEE #7358\u001b[0m\n",
            "\u001b[43mSTARBUCKS #7378\u001b[0m\n",
            "\u001b[43mSTARBUCKS - ENTRANCE 11 WEST 33\u001b[0mRD ST\n",
            "\u001b[43mSTARBUCKS COFFEE # 26528\u001b[0m\n",
            "\u001b[43mSTARBUCKS COFFEE #22716\u001b[0m\n",
            "\u001b[43mSTARBUCKS COFFEE #23591\u001b[0m\n",
            "\u001b[43mSTARBUCKS COFFEE #29856\u001b[0m\n",
            "\u001b[43mSTARBUCKS COFFEE COMPANY #29897\u001b[0m\n",
            "\u001b[43mSTARBUCKS COFFEE #48170\u001b[0m\n",
            "\u001b[43mSTARBUCKS (STORE #50483\u001b[0m)\n",
            "\u001b[43mSTARBUCKS COFFEE #49952\u001b[0m\n",
            "\u001b[43mSTARBUCKS #50611\u001b[0m\n",
            "\u001b[43mSTARBUCKS COFFEE # 49196\u001b[0m\n",
            "\u001b[43mSTARBUCKS #48990\u001b[0m\n",
            "\u001b[43mSTARBUCKS COFFEE #49550\u001b[0m\n",
            "\u001b[43mSTARBUCKS COFFEE #50622\u001b[0m\n",
            "\u001b[43mSTARBUCKS COFFEE #29719\u001b[0m\n",
            "\u001b[43mSTARBUCKS COFFEE #53473\u001b[0m\n",
            "\u001b[43mSTARBUCKS COFFEE #49450\u001b[0m\n",
            "\u001b[43mSTARBUCKS #54446\u001b[0m\n",
            "\u001b[43mSTARBUCKS COFFEE #823\u001b[0m\n",
            "\u001b[43mSTARBUCKS COFFE #55085\u001b[0m\n",
            "\u001b[43mSTARBUCKS COFFEE#54771\u001b[0m\n",
            "\u001b[43mSTARBUCKS COFFEE #52530\u001b[0m\n",
            "\u001b[43mSTARBUCKS COFFEE #58310\u001b[0m\n",
            "\u001b[43mSTARBUCKS COFFEE #56451\u001b[0m\n",
            "\u001b[43mSTARBUCKS COFFEE #57774\u001b[0m\n",
            "\u001b[43mSTARBUCKS COFFEE #57601\u001b[0m\n",
            "\u001b[43mSTARBUCKS COFFEE #58455\u001b[0m\n",
            "\u001b[43mSTARBUCKS COFFEE #678\u001b[0m HUDSON\n",
            "\u001b[43mSTARBUCKS COFFEE #14090\u001b[0m\n",
            "KELLY COMMONS - KELLY'S MARKETPLACE/\u001b[43mSTARBUCKS - 1\u001b[0mST FLOOR\n",
            "\u001b[43mSTARBUCKS #64932\u001b[0m\n",
            "\u001b[43mSTARBUCKS COFFEE # 65421\u001b[0m\n",
            "\u001b[43mSTARBUCKS COFFEE #65494\u001b[0m\n",
            "\u001b[43mSTARBUCKS COFFEE #22596\u001b[0m\n"
          ]
        }
      ]
    },
    {
      "cell_type": "markdown",
      "source": [
        "## Grouping ()\n",
        "In the group operator, when a group of characters is enclosed in parentheses, the next operator applies to the whole group, not only the previous characters.\n",
        "\n",
        "For example: Find all the restaurants that start (^) with 8 or more repetitions ({8,}) of the \\w+  pattern (alphanumeric characters followed by space):"
      ],
      "metadata": {
        "id": "YpS6x_RJAdX9"
      }
    },
    {
      "cell_type": "code",
      "source": [
        "grep(r'^(\\w+ ){8,}', uniquenames)\n"
      ],
      "metadata": {
        "colab": {
          "base_uri": "https://localhost:8080/"
        },
        "id": "3UtA-lyIAgK0",
        "outputId": "5b34d179-b122-4f54-d2f1-89147e4c0eca"
      },
      "execution_count": 27,
      "outputs": [
        {
          "output_type": "stream",
          "name": "stdout",
          "text": [
            "\u001b[43mMARLIN BAR AT TOMMY BAHAMA AND TOMMY BAHAMA RESTAURANT AND \u001b[0mB\n",
            "\u001b[43mHOMEWOOD SUITES BY HILTON NEW YORK MIDTOWN MANHATTAN TIMES \u001b[0mSQUARE\n"
          ]
        }
      ]
    },
    {
      "cell_type": "markdown",
      "source": [
        "##Group references\n",
        "Sometimes it is handy to be able to refer to a match that was made earlier in a regex. This is done with backreferences, which refer to groups. \\k is the backreference specifier, where k is a number, which refers to the k-th regular expression that was enclosed in parenthesis.\n",
        "\n",
        "For example, find if the first character(s) of a line are the same as the last:"
      ],
      "metadata": {
        "id": "5c3tnwBkAoCd"
      }
    },
    {
      "cell_type": "code",
      "source": [
        "grep(r'^(.{3,}).*\\1$', uniquenames)\n"
      ],
      "metadata": {
        "colab": {
          "base_uri": "https://localhost:8080/"
        },
        "id": "OVbEdXp5AqPX",
        "outputId": "b36e43a7-3c2e-44bf-e81d-e47981fb76f6"
      },
      "execution_count": 28,
      "outputs": [
        {
          "output_type": "stream",
          "name": "stdout",
          "text": [
            "\u001b[43mZOO BREWS-BRONX ZOO\u001b[0m\n",
            "\u001b[43mARRIBA ARRIBA\u001b[0m\n",
            "\u001b[43mBARRACUDA BAR\u001b[0m\n",
            "\u001b[43mKENNEDY FRIED CHICKEN\u001b[0m\n",
            "\u001b[43mHARLEM BAR-B-Q, NABE HARLEM\u001b[0m\n",
            "\u001b[43mPIO PIO\u001b[0m\n",
            "\u001b[43mSEBA SEBA\u001b[0m\n",
            "\u001b[43mRUBY'S & LITTLE RUBY'S\u001b[0m\n",
            "\u001b[43mBARCELONA BAR\u001b[0m\n",
            "\u001b[43mTETE-A-TETE\u001b[0m\n",
            "\u001b[43mANTONIO'S RESTAURANT\u001b[0m\n",
            "\u001b[43mLOS 3 POTRILLOS\u001b[0m\n",
            "\u001b[43mPIO-PIO\u001b[0m\n",
            "\u001b[43mONE AND ONE\u001b[0m\n",
            "\u001b[43mCHOP CHOP\u001b[0m\n",
            "\u001b[43mBOULUD SUD & EPICERIE BOULUD\u001b[0m\n",
            "\u001b[43mGONZALEZ Y GONZALEZ\u001b[0m\n",
            "\u001b[43mSHIMBASHI SUSHI\u001b[0m\n",
            "\u001b[43mBARCLAYS NORTH SUITE STOLI BAR\u001b[0m\n",
            "\u001b[43mBARCLAYS 40, 40 CLUB BAR\u001b[0m\n",
            "\u001b[43mLOS TRES POTRILLOS\u001b[0m\n",
            "\u001b[43mBERON BERON\u001b[0m\n",
            "\u001b[43mPIL PIL\u001b[0m\n",
            "\u001b[43mVIS-A-VIS\u001b[0m\n",
            "\u001b[43mBARRY'S BOOTCAMP FUEL BAR\u001b[0m\n",
            "\u001b[43mMANGO MANGO\u001b[0m\n",
            "\u001b[43mTUK TUK\u001b[0m\n",
            "\u001b[43mYIA YIA\u001b[0m\n",
            "\u001b[43mWIKIWIKI\u001b[0m\n",
            "\u001b[43mYUMMY YUMMY\u001b[0m\n",
            "\u001b[43mBEAN N BEAN\u001b[0m\n",
            "\u001b[43mPANADERIA IXTAPAN\u001b[0m\n",
            "\u001b[43mMAKIMAKI\u001b[0m\n",
            "\u001b[43mTOFU TOFU\u001b[0m\n",
            "\u001b[43mSANSOOKAPSAN\u001b[0m\n",
            "\u001b[43mBAAR BAAR\u001b[0m\n",
            "\u001b[43mPERI PERI\u001b[0m\n",
            "\u001b[43mKENNEDY CHICKEN\u001b[0m\n",
            "\u001b[43mCACHAPA CACHAPA\u001b[0m\n",
            "\u001b[43mTETE A TETE\u001b[0m\n",
            "\u001b[43mMONOMONO\u001b[0m\n",
            "\u001b[43mSUSHI SUSHI\u001b[0m\n",
            "\u001b[43mLOS MARINILLOS\u001b[0m\n",
            "\u001b[43mCIAO CIAO\u001b[0m\n",
            "\u001b[43mSHIMA SUSHI\u001b[0m\n",
            "\u001b[43mCHA CHA MATCHA\u001b[0m\n",
            "\u001b[43mNICHE NICHE\u001b[0m\n",
            "\u001b[43mZAAB ZAAB\u001b[0m\n",
            "\u001b[43mWAKU WAKU\u001b[0m\n",
            "\u001b[43mTERIYAKI MONSTER\u001b[0m\n",
            "\u001b[43mBAO BAO\u001b[0m\n",
            "\u001b[43mSUNDAY TO SUNDAY\u001b[0m\n",
            "\u001b[43mLOULOU\u001b[0m\n",
            "\u001b[43mANTOJITOS DEL MANGU RESTAURANT\u001b[0m\n",
            "\u001b[43mPASA PASA\u001b[0m\n",
            "\u001b[43mTOMO TOMO\u001b[0m\n",
            "\u001b[43mBARCLAYS RISE COFFEE BAR\u001b[0m\n",
            "\u001b[43mKENTUCKY FRIED CHICKEN\u001b[0m\n",
            "\u001b[43mEAT OFFBEAT\u001b[0m\n",
            "\u001b[43mBARO 1376 RESTAURANT & BAR\u001b[0m\n",
            "\u001b[43mPOPPY POPPY\u001b[0m\n"
          ]
        }
      ]
    },
    {
      "cell_type": "code",
      "source": [
        "# Or find all the restaurant names that the first 5 characters (or more) are identical to the last characters.\n",
        "\n",
        "grep(r'^([A-Z]+)\\1$', uniquenames)"
      ],
      "metadata": {
        "colab": {
          "base_uri": "https://localhost:8080/"
        },
        "id": "ZQAdtd-GAung",
        "outputId": "7b49de01-91c4-4965-a824-75bdbe3d80ac"
      },
      "execution_count": 29,
      "outputs": [
        {
          "output_type": "stream",
          "name": "stdout",
          "text": [
            "\u001b[43mNONO\u001b[0m\n",
            "\u001b[43mMEME\u001b[0m\n",
            "\u001b[43mWIKIWIKI\u001b[0m\n",
            "\u001b[43mMAKIMAKI\u001b[0m\n",
            "\u001b[43mCOCO\u001b[0m\n",
            "\u001b[43mMONOMONO\u001b[0m\n",
            "\u001b[43mMAMA\u001b[0m\n",
            "\u001b[43mZIZI\u001b[0m\n",
            "\u001b[43mLOULOU\u001b[0m\n"
          ]
        }
      ]
    },
    {
      "cell_type": "code",
      "source": [
        "#Or find the restaurants where the first character is the same as the last, and the second character is the same as the penultimate character.\n",
        "\n",
        "grep(r'^(.)(.).*\\2\\1$', uniquenames)"
      ],
      "metadata": {
        "colab": {
          "base_uri": "https://localhost:8080/"
        },
        "id": "ZGlhi82YAydT",
        "outputId": "c0bcc17b-2465-4ce6-b1e4-5a7c2919a327"
      },
      "execution_count": 30,
      "outputs": [
        {
          "output_type": "stream",
          "name": "stdout",
          "text": [
            "\u001b[43mELEPHANT & CASTLE\u001b[0m\n",
            "\u001b[43mRED FLAME DINER\u001b[0m\n",
            "\u001b[43mNEW WAH KITCHEN\u001b[0m\n",
            "\u001b[43mNEW YORKER HOTEL KITCHEN\u001b[0m\n",
            "\u001b[43mELI'S TABLE\u001b[0m\n",
            "\u001b[43mTERESA'S GOURMET\u001b[0m\n",
            "\u001b[43mMESKEREM\u001b[0m\n",
            "\u001b[43mNICE MATIN\u001b[0m\n",
            "\u001b[43mNEW HONG KONG KITCHEN\u001b[0m\n",
            "\u001b[43mOH TAISHO\u001b[0m\n",
            "\u001b[43mSTILLWELL SOCCER SPORTS\u001b[0m\n",
            "\u001b[43mNEW YORK FRIED CHICKEN\u001b[0m\n",
            "\u001b[43mREMEDY DINER\u001b[0m\n",
            "\u001b[43mSTARLIGHT GRILL RESTAURANT & SWEETS\u001b[0m\n",
            "\u001b[43mNEW HOP SHING KITCHEN\u001b[0m\n",
            "\u001b[43mRADIO STAR\u001b[0m\n",
            "\u001b[43mENTWINE\u001b[0m\n",
            "\u001b[43mNEW EMPIRE KITCHEN\u001b[0m\n",
            "\u001b[43mSALINAS\u001b[0m\n",
            "\u001b[43mNEW MING GARDEN\u001b[0m\n",
            "\u001b[43mBURGER CLUB\u001b[0m\n",
            "\u001b[43mNEW CHEF HONG KITCHEN\u001b[0m\n",
            "\u001b[43mNEW PEKING KITCHEN\u001b[0m\n",
            "\u001b[43mLA ESTRELLA TROPICAL\u001b[0m\n",
            "\u001b[43mNEW JOHN GARDEN\u001b[0m\n",
            "\u001b[43mPOTBELLY SANDWICH SHOP\u001b[0m\n",
            "\u001b[43mRAMINI ESPRESSO BAR\u001b[0m\n",
            "\u001b[43mNEW LIN'S GARDEN\u001b[0m\n",
            "\u001b[43mNEW HAPPY GARDEN\u001b[0m\n",
            "\u001b[43mDONA ZITA MEXICAN FOOD\u001b[0m\n",
            "\u001b[43mANASSA TAVERNA\u001b[0m\n",
            "\u001b[43mSTARLETS\u001b[0m\n",
            "\u001b[43mNEW SPRING GARDEN\u001b[0m\n",
            "\u001b[43mNEW WOKS KITCHEN\u001b[0m\n",
            "\u001b[43mNEW MING'S KITCHEN\u001b[0m\n",
            "\u001b[43mAITA TRATTORIA\u001b[0m\n",
            "\u001b[43mLA EXCELENCIA EMPANADAS MONUMENTAL\u001b[0m\n",
            "\u001b[43mRED LOBSTER\u001b[0m\n",
            "\u001b[43mRESIDENCE INN WORLD TRADE CENTER\u001b[0m\n",
            "\u001b[43mNEW ISLAND GARDEN\u001b[0m\n",
            "\u001b[43mHARLEM HOOKAH\u001b[0m\n",
            "\u001b[43mNEW LIN'S KITCHEN\u001b[0m\n",
            "\u001b[43mBAKHTAR KEBAB\u001b[0m\n",
            "\u001b[43mNEW HAPPY JOY CHINESE KITCHEN\u001b[0m\n",
            "\u001b[43mNEW CHINA GARDEN\u001b[0m\n",
            "\u001b[43mNEW TEXAS FRIED CHICKEN\u001b[0m\n",
            "\u001b[43mNEW YORK HILTON , BANQUET KITCHEN\u001b[0m\n",
            "\u001b[43mRED GINGER\u001b[0m\n",
            "\u001b[43mTANDIR ROKHAT\u001b[0m\n",
            "\u001b[43mHAPISGAH\u001b[0m\n",
            "\u001b[43mLA NACIONAL\u001b[0m\n",
            "\u001b[43mBULL'S EYE SPORTS PUB\u001b[0m\n",
            "\u001b[43mNEW MAY MAY KITCHEN\u001b[0m\n",
            "\u001b[43mADDA\u001b[0m\n",
            "\u001b[43mNEW IMPERIAL KITCHEN\u001b[0m\n",
            "\u001b[43mMALAI ICE CREAM\u001b[0m\n",
            "\u001b[43mPOSH POP BAKESHOP\u001b[0m\n",
            "\u001b[43mNEW WORLD AMERICAN KITCHEN\u001b[0m\n",
            "\u001b[43mSUBCONSCIOUS\u001b[0m\n",
            "\u001b[43mNOWON\u001b[0m\n",
            "\u001b[43mNEW LIN CHINA GARDEN\u001b[0m\n",
            "\u001b[43mNEW LUCKY GARDEN\u001b[0m\n",
            "\u001b[43mNEW SIU'S KITCHEN\u001b[0m\n",
            "\u001b[43mNEW NO PORK HALAL KITCHEN\u001b[0m\n",
            "\u001b[43mRALPH'S SPORTS BAR\u001b[0m\n",
            "\u001b[43mNEW LI'S KITCHEN\u001b[0m\n",
            "\u001b[43mNOODLE BOX FUSION\u001b[0m\n",
            "\u001b[43mANGELINA\u001b[0m\n",
            "\u001b[43mNEW JADE GARDEN\u001b[0m\n",
            "\u001b[43mNEW GARDEN\u001b[0m\n",
            "\u001b[43mNEW LUCK GARDEN\u001b[0m\n",
            "\u001b[43mNEW LUCKY STAR KITCHEN\u001b[0m\n",
            "\u001b[43mNEW DOSA GARDEN\u001b[0m\n",
            "\u001b[43mNEW CHEUN HING KITCHEN\u001b[0m\n",
            "\u001b[43mNEW UNCLE FRIED CHICKEN\u001b[0m\n",
            "\u001b[43mSANTI & TITO EMPANADAS Y MAS\u001b[0m\n",
            "\u001b[43mNEW JOY GARDEN\u001b[0m\n",
            "\u001b[43mEFFY'S CAFE\u001b[0m\n",
            "\u001b[43mDOMINICAN FOOD\u001b[0m\n",
            "\u001b[43mNEW CASTLE DELICATESSEN\u001b[0m\n"
          ]
        }
      ]
    },
    {
      "cell_type": "code",
      "source": [
        "#Find all names that have three consecutive same digits\n",
        "\n",
        "grep(r'([0-9])\\1\\1', uniquenames)"
      ],
      "metadata": {
        "colab": {
          "base_uri": "https://localhost:8080/"
        },
        "id": "zXUqKowNA2cc",
        "outputId": "ad60694d-1020-47f7-f2eb-39b6153f35ca"
      },
      "execution_count": 31,
      "outputs": [
        {
          "output_type": "stream",
          "name": "stdout",
          "text": [
            "GALLAGHER'S 2\u001b[43m000\u001b[0m\n",
            "LEGENDS \u001b[43m000\u001b[0m\n",
            "\u001b[43m888\u001b[0m KITCHEN\n",
            "DUNKIN STORE #\u001b[43m111\u001b[0m5\n",
            "\u001b[43m333\u001b[0m LOUNGE\n",
            "MEXICO 2\u001b[43m000\u001b[0m\n",
            "GOOD TASTE \u001b[43m666\u001b[0m\n",
            "CARVEL # 10\u001b[43m222\u001b[0m4\n",
            "STARBUCKS #5\u001b[43m444\u001b[0m6\n",
            "SHAXIAN \u001b[43m888\u001b[0m\n",
            "STARBUCKS COFFEE #5\u001b[43m777\u001b[0m4\n",
            "CHECKERS STORE #\u001b[43m333\u001b[0m2\n",
            "\u001b[43m888\u001b[0m BK THAI\n",
            "CAFE 2\u001b[43m000\u001b[0m\n",
            "EMPIRE \u001b[43m111\u001b[0m\n"
          ]
        }
      ]
    },
    {
      "cell_type": "code",
      "source": [
        "#As we are going to see, these backreferences will also be of tremendous use for extraction purposes.\n",
        "\n",
        "#### Naming groups\n",
        "# The group that follows the term \"DOUBLE\" is named \"doublewhat\" and we can refer to it as \\doublewhat\n",
        "grep(r'DOUBLE (?P<doublewhat>\\w+)', uniquenames)"
      ],
      "metadata": {
        "colab": {
          "base_uri": "https://localhost:8080/"
        },
        "id": "Rq2xZ_ATA9bH",
        "outputId": "7abacf23-958c-475c-f261-5126dd3226d9"
      },
      "execution_count": 32,
      "outputs": [
        {
          "output_type": "stream",
          "name": "stdout",
          "text": [
            "\u001b[43mDOUBLE DOWN\u001b[0m SALOON\n",
            "\u001b[43mDOUBLE WINDSOR\u001b[0m\n",
            "\u001b[43mDOUBLE RAINBOW\u001b[0m\n",
            "BEST \u001b[43mDOUBLE DRAGON\u001b[0m RESTAURANT\n",
            "\u001b[43mDOUBLE DUTCH\u001b[0m ESPRESSO\n",
            "\u001b[43mDOUBLE TOP\u001b[0m CHINA & TORTILLA TACO\n",
            "\u001b[43mDOUBLE DRAGON\u001b[0m\n",
            "\u001b[43mDOUBLE ZERO\u001b[0m\n",
            "\u001b[43mDOUBLE CRISPY\u001b[0m BAKERY I\n",
            "A & A BAKE AND \u001b[43mDOUBLE SHOP\u001b[0m\n",
            "\u001b[43mDOUBLE RED\u001b[0m INC\n",
            "\u001b[43mDOUBLE TWISTER\u001b[0m ICE CREAM AND COFFEE SHOP\n",
            "\u001b[43mDOUBLE DELIGHT\u001b[0m ASIAN\n",
            "\u001b[43mDOUBLE CHICKEN\u001b[0m PLEASE\n",
            "\u001b[43mDOUBLE CHINESE\u001b[0m RESTAURANT\n",
            "\u001b[43mDOUBLE HAPPY\u001b[0m KITCHEN\n"
          ]
        }
      ]
    },
    {
      "cell_type": "markdown",
      "source": [
        "ay that you have a file with telephone numbers written in a variety of forms:\n",
        "\n",
        "679-397-5255\n",
        "2126660921\n",
        "212-998-0902\n",
        "888-888-2222\n",
        "800-555-1211\n",
        "800 555 1212\n",
        "800.555.1213\n",
        "(800) 555-1214\n",
        "1-800-555-1215\n",
        "1(800)555-1216\n",
        "800-555-1212-1234\n",
        "800-555-1212x1234\n",
        "800-555-1212 ext. 1234\n",
        "work 1-(800) 555.1212 #1234\n",
        "The task is to standardize everything in the form (xxx)-xxx-xxx."
      ],
      "metadata": {
        "id": "q8FkzlgcBGnW"
      }
    },
    {
      "cell_type": "code",
      "source": [
        "# prompt: standarize the above telephone numbers in (xxx) xxx-xxxx\n",
        "\n",
        "import re\n",
        "\n",
        "def standardize_phone_number(phone_number):\n",
        "  \"\"\"Standardizes a phone number to the format (xxx) xxx-xxxx.\n",
        "\n",
        "  Args:\n",
        "    phone_number: The phone number to standardize.\n",
        "\n",
        "  Returns:\n",
        "    The standardized phone number, or None if the phone number is invalid.\n",
        "  \"\"\"\n",
        "  # Remove any non-digit characters from the phone number.\n",
        "  digits = re.sub(r'\\D', '', phone_number)\n",
        "\n",
        "  # Check if the phone number has 10 or 11 digits.\n",
        "  if len(digits) == 10:\n",
        "    return f'({digits[:3]}) {digits[3:6]}-{digits[6:]}'\n",
        "  elif len(digits) == 11 and digits[0] == '1':\n",
        "    return f'({digits[1:4]}) {digits[4:7]}-{digits[7:]}'\n",
        "  else:\n",
        "    return None\n",
        "\n",
        "\n",
        "# Example usage:\n",
        "phone_numbers = [\n",
        "    '679-397-5255',\n",
        "    '2126660921',\n",
        "    '212-998-0902',\n",
        "    '888-888-2222',\n",
        "    '800-555-1211',\n",
        "    '800 555 1212',\n",
        "    '800.555.1213',\n",
        "    '(800) 555-1214',\n",
        "    '1-800-555-1215',\n",
        "    '1(800)555-1216',\n",
        "    '800-555-1212-1234',\n",
        "    '800-555-1212x1234',\n",
        "    '800-555-1212 ext. 1234',\n",
        "    'work 1-(800) 555.1212 #1234',\n",
        "]\n",
        "\n",
        "for phone_number in phone_numbers:\n",
        "  standardized_number = standardize_phone_number(phone_number)\n",
        "  if standardized_number:\n",
        "    print(f'{phone_number} -> {standardized_number}')\n",
        "  else:\n",
        "    print(f'{phone_number} -> Invalid phone number')\n"
      ],
      "metadata": {
        "colab": {
          "base_uri": "https://localhost:8080/"
        },
        "id": "3SFUF07bBIgi",
        "outputId": "4991c827-e562-448d-f8dc-1c9f5e327f16"
      },
      "execution_count": 33,
      "outputs": [
        {
          "output_type": "stream",
          "name": "stdout",
          "text": [
            "679-397-5255 -> (679) 397-5255\n",
            "2126660921 -> (212) 666-0921\n",
            "212-998-0902 -> (212) 998-0902\n",
            "888-888-2222 -> (888) 888-2222\n",
            "800-555-1211 -> (800) 555-1211\n",
            "800 555 1212 -> (800) 555-1212\n",
            "800.555.1213 -> (800) 555-1213\n",
            "(800) 555-1214 -> (800) 555-1214\n",
            "1-800-555-1215 -> (800) 555-1215\n",
            "1(800)555-1216 -> (800) 555-1216\n",
            "800-555-1212-1234 -> Invalid phone number\n",
            "800-555-1212x1234 -> Invalid phone number\n",
            "800-555-1212 ext. 1234 -> Invalid phone number\n",
            "work 1-(800) 555.1212 #1234 -> Invalid phone number\n"
          ]
        }
      ]
    },
    {
      "cell_type": "code",
      "source": [
        "# prompt: update the above code to use regular expressions to capture the phone number  correctly on the ones that are invalid number\n",
        "\n",
        "```python\n",
        "import re\n",
        "from sqlalchemy import create_engine\n",
        "import pandas as pd\n",
        "# #Regular Expressions\n",
        "# Regular expressions (regexes or re’s) constitute an extremely powerful, flexible and concise language for matching elements in text ranging from a few characters to complex patterns. While mastering the syntax of the regular expression language does require climbing a learning curve, this learning curve is not particularly steep, and a newcomer can find herself performing useful tasks with regular expressions almost immediately. Efforts spent learning regular expressions quickly pay off--tasks that are well suited for regular expressions abound. Indeed, regular expressions are one of the most useful computer skills, and an absolutely critical tool for data scientists.\n",
        "#\n",
        "# This document will present basic regular expression syntax and cover common use cases for regular expressions.\n",
        "# The code below is written in Python to replicate the\n",
        "# behavior of grep, the UNIX utility\n",
        "# We will examine the details of how the code works in a subsequent notebook.\n",
        "# For now, just execute the code, and use the function\n",
        "# grep(regex_expression, name_list) as-is\n",
        "\n",
        "\n",
        "def printMatches(text, regex_expression):\n",
        "  BACKGROUND_YELLOW = '\\x1b[43m'\n",
        "  COLOR_RESET  = \"\\x1b[0m\"\n",
        "  regex= re.compile(regex_expression)\n",
        "  matches = regex.finditer(text)\n",
        "  for m in matches:\n",
        "    highlighted  = text[:m.start()] # the string before the regex match\n",
        "    highlighted += BACKGROUND_YELLOW + text[m.start():m.end()] + COLOR_RESET\n",
        "    highlighted += text[m.end():] # the string after the regex match\n",
        "    print(highlighted)\n",
        "\n",
        "def grep(regex_expression, name_list):\n",
        "  for line in name_list:\n",
        "    printMatches(line, regex_expression)\n",
        "# ## NYC Restaurant Names Data\n",
        "# In the notebook, we will demonstrating the various regular expressions using the set of restaurant names from /data/uniquenames.txt.\n",
        "!pip install -U -q PyMySQL sqlalchemy\n",
        "\n",
        "\n",
        "conn_string = 'mysql+pymysql://{user}:{password}@{host}/{db}?charset=utf8mb4'.format(\n",
        "    host = 'db.ipeirotis.org',\n",
        "    user = 'student',\n",
        "    password = 'dwdstudent2025',\n",
        "    db = 'doh_restaurants',\n",
        "    encoding = 'utf8mb4')\n",
        "\n",
        "with create_engine(conn_string).connect() as mysql_conn:\n",
        "  # This query returns back the restaurants in the DOH database\n",
        "  sql = 'SELECT DISTINCT UPPER(DBA) AS DBA FROM restaurants WHERE DBA IS NOT NULL'\n",
        "  uniquenames = pd.read_sql(sql, con=mysql_conn)\n",
        "  uniquenames = uniquenames.DBA.values\n",
        "\n",
        "print(f\"Found {len(uniquenames)} unique restaurants names\")\n",
        "#Let's take a peek at the entries of the uniquenames list:\n",
        "\n",
        "uniquenames[:5]\n",
        "uniquenames[-5:]\n",
        "\n",
        "#Now, let's see if there are any restaurants with the string 'PANO' in them:\n",
        "\n",
        "grep('PANO', uniquenames)\n",
        "# ## The atoms\n",
        "# The simplest regular expressions are a sequence of atoms. An atom can be any of the following:\n",
        "#\n",
        "# ## single character,\n",
        "# a dot,\n",
        "# a bracket expression,\n",
        "# an anchor.\n",
        "# Single character atom\n",
        "# A single character atom matches itself.\n",
        "#\n",
        "# ## The . character atom\n",
        "# A dot atom matches any single character (except for a new line character \\n).\n",
        "#\n",
        "# Example: Using single character atoms, and the . atom, let's find all restaurant names that contain the characters AB, followed by any character (.) and then the character D:\n",
        "grep('AB.D', uniquenames)\n",
        "\n",
        "# ## Bracket expression atom\n",
        "# A bracket expression (defined by square brackets []) defines a set of characters. matches only one single character that can be any of the characters defined in a set. Example: [ABL] matches either A, B, or L.\n",
        "#\n",
        "# Now, let's use a bracket expression: We want to find restaurants that contain one of the letters A,B,C,X,Y,Z followed by a digit. We specify the set of letters as [ABCXYZ] and the set of digits as [0123456789].\n",
        "#\n",
        "#\n",
        "grep('[ABCXYZ][0123456789]', uniquenames)\n",
        "\n",
        "# ## Brackets and ranges\n",
        "# Instead of typing long lists of characters in a bracket expression, we can use the range character: [0-9] is equivalent to [0123456789]. Similarly [A-Z] is equivalent to [ABCDEFGHIJKLMNOPQRSTUVWXYZ]. And [D-T] is equivalent to [DEFGHIJKLMNOPQRST]. (You get the idea.) You can also combine multiple ranges: [a-e1-9] is equivalent to [abcde123456789]. Finally, you can even specify to be excluded from the set using the character (^). For example, [^0-9] matches any character other than a number.\n",
        "#\n",
        "# For example, let's find restaurants that contain a letter, followed by a number, and then followed by a charather that is not a number:\n",
        "grep('[A-Z][0-9][^0-9]', uniquenames)\n",
        "\n",
        "# m, we do not want to get results that have a space after the number, so let's also exclude the space character:\n",
        "\n",
        "grep('[A-Z][0-9][^0-9 ]', uniquenames)\n",
        "# Digit, not letter not digit not space, digit\n",
        "grep('[0-9][^A-Z0-9 ][0-9]', uniquenames)\n",
        "\n",
        "# Restaurants with five digits\n",
        "grep('[0-9][0-9][0-9][0-9][0-9]', uniquenames)\n",
        "# ## Anchor\n",
        "# Anchor atoms are special characters, used to define the location of a regex within a line.\n",
        "#\n",
        "# The anchor ^ specifies the beginning of a line, the anchor $ specifies the end of a line. The anchor \\b specifies the word boundary.\n",
        "#\n",
        "# Example: Find restaurant names that start with the characters BAL\n",
        "grep('^BAL', uniquenames)\n",
        "\n",
        "grep('SQUARE$', uniquenames)\n",
        "\n",
        "# All restaurants that end with 4 digits\n",
        "grep('[0-9][0-9][0-9][0-9]$', uniquenames)\n",
        " #Let's try to find restaurants containing the word MEXICO:\n",
        "\n",
        "# Note that we capture also words like 'TULCIMEXICO' and 'MEXICOCIANA'\n",
        "grep('MEXICO', uniquenames)\n",
        "# Notice that adding space is not sufficient\n",
        "grep(' MEXICO ', uniquenames)\n",
        "# The r'....' is a \"raw\" string, and allows us to enter\n",
        "# backslash without having to \"escape\" the backslash.\n",
        "# Otherwise Python will interpret \\b as a single special\n",
        "# character, and not as two characters \\b that are part of the regex\n",
        "grep(r'\\bMEXICO\\b', uniquenames)\n",
        "# ## Basic Patterns\n",
        "# a, X, 9, ....: -- ordinary characters just match themselves exactly.\n",
        "# . ^ \\$ * + ? { [ ] \\ | ( ): The meta-characters which do not match themselves because they have special meanings (more info below)\n",
        "# . (a period) -- matches any single character except newline '\\n'\n",
        "# \\t, \\n, \\r: Special characters, tab, newline, return\n",
        "# ^ = start, $ = end -- match the start or end of the string\n",
        "# \\: inhibit the \"specialness\" of a character. So, for example, use . to match a period or \\ to match a slash. If you are unsure if a character has special meaning, such as '@', you can put a slash in front of it, @, to make sure it is treated just as a character.\n",
        "# ## Shortcuts\n",
        "# A few of the bracket expressions that we discussed above occur very often. For this reason, we have shortcuts for them:\n",
        "#\n",
        "# \\d: matches the digits: [0-9].\n",
        "# \\D: matches anything but \\d: [^0-9].\n",
        "# \\w: matches any alphanumeric character plus underscore: [A-Za-z0-9_].\n",
        "# \\W: matches anything but \\w: [^A-Za-z0-9_]\n",
        "# \\s: matches any \"whitespace\" character (space, tab, newline, etc): [ \\t\\n\\r\\f\\v].\n",
        "# \\S: matches anything but \\s: [^ \\t\\n\\r\\f\\v] .\n",
        "# \\b: matches the breaks between alphanumeric and non-alphanumeric characters (an empty string), the boundary between \\w and \\W. Useful for ensuring that what you match is actually a word.\n",
        "# \\B: matches anything but \\b. Useful for ensuring your match is in the middle of a word.\n",
        "# In class exercises\n",
        "# Write a regular expression for:\n",
        "#\n",
        "# Match any character\n",
        "# Match the end of line\n",
        "# Match any digit\n",
        "# Find all characters that are not digits\n",
        "# Find all words with four letters\n",
        "# Find every line that starts with a digit"
      ],
      "metadata": {
        "id": "YlgdOpWOBhot"
      },
      "execution_count": null,
      "outputs": []
    },
    {
      "cell_type": "markdown",
      "source": [
        "More Advanced Regular Expressions\n",
        "And the ones below get a little bit more advanced:\n",
        "\n",
        "*?, +?: ordinarily, *, + and ? are greedy. This means they are matching the longest possible string that satisfies the regular expression. Adding the ? to any of these makes it non-greedy, instead matching the shortest possible expression.\n",
        "(?: ): A non-capturing group. This works just as (), but doesn’t hold on to the matched contents.\n",
        "(?<=x): Matches any string that is preceded by x (an arbitrary regular expression)."
      ],
      "metadata": {
        "id": "DG42DAk6C5iC"
      }
    }
  ]
}