{
  "nbformat": 4,
  "nbformat_minor": 0,
  "metadata": {
    "colab": {
      "provenance": [],
      "authorship_tag": "ABX9TyNHHhptM79s9HESELkgeYih",
      "include_colab_link": true
    },
    "kernelspec": {
      "name": "python3",
      "display_name": "Python 3"
    },
    "language_info": {
      "name": "python"
    }
  },
  "cells": [
    {
      "cell_type": "markdown",
      "metadata": {
        "id": "view-in-github",
        "colab_type": "text"
      },
      "source": [
        "<a href=\"https://colab.research.google.com/github/mb8655/Python/blob/main/Spotify_API_AuthenticationExample.ipynb\" target=\"_parent\"><img src=\"https://colab.research.google.com/assets/colab-badge.svg\" alt=\"Open In Colab\"/></a>"
      ]
    },
    {
      "cell_type": "markdown",
      "source": [
        "#Spotify"
      ],
      "metadata": {
        "id": "Ejhl8mA64Xxz"
      }
    },
    {
      "cell_type": "code",
      "execution_count": null,
      "metadata": {
        "id": "8nBUBcOm4UaW"
      },
      "outputs": [],
      "source": [
        "import requests\n"
      ]
    },
    {
      "cell_type": "markdown",
      "source": [
        "We are going to use the \"Client Credentials Flow\" from https://developer.spotify.com/web-api/authorization-guide/#client_credentials_flow\n",
        "\n"
      ],
      "metadata": {
        "id": "I5XrC5qX4W2w"
      }
    },
    {
      "cell_type": "code",
      "source": [
        "# We first create an app on https://developer.spotify.com\n",
        "# and we get the client ID and client secret\n",
        "# NOTE/PANOS: I have disabled my client_secret.\n",
        "# Please register and get your own credentials if you want to run the code\n",
        "client_id = 'f50bb3a5dd0946fdb02c6c6459d69aea'\n",
        "client_secret = '3e72b403842a4713afef76c5aefddbe0'"
      ],
      "metadata": {
        "id": "zw7pZ9Dp4k26"
      },
      "execution_count": 1,
      "outputs": []
    },
    {
      "cell_type": "code",
      "source": [
        "# We use the \"Client Credentials Flow\" from https://developer.spotify.com/web-api/authorization-guide/#client_credentials_flow\n",
        "# We will submit the client id and client secret, to get back our \"access token\"\n",
        "body_params = {'grant_type' : 'client_credentials'}\n",
        "url = 'https://accounts.spotify.com/api/token'\n",
        "auth_data = requests.post(url, data=body_params, auth=(client_id, client_secret)).json()\n",
        "auth_data"
      ],
      "metadata": {
        "colab": {
          "base_uri": "https://localhost:8080/",
          "height": 193
        },
        "id": "caayXgCW5nPP",
        "outputId": "99b78a22-f5b8-4996-fc7d-065f748b3ef1"
      },
      "execution_count": 2,
      "outputs": [
        {
          "output_type": "error",
          "ename": "NameError",
          "evalue": "name 'requests' is not defined",
          "traceback": [
            "\u001b[0;31m---------------------------------------------------------------------------\u001b[0m",
            "\u001b[0;31mNameError\u001b[0m                                 Traceback (most recent call last)",
            "\u001b[0;32m<ipython-input-2-00ee883d0970>\u001b[0m in \u001b[0;36m<cell line: 0>\u001b[0;34m()\u001b[0m\n\u001b[1;32m      3\u001b[0m \u001b[0mbody_params\u001b[0m \u001b[0;34m=\u001b[0m \u001b[0;34m{\u001b[0m\u001b[0;34m'grant_type'\u001b[0m \u001b[0;34m:\u001b[0m \u001b[0;34m'client_credentials'\u001b[0m\u001b[0;34m}\u001b[0m\u001b[0;34m\u001b[0m\u001b[0;34m\u001b[0m\u001b[0m\n\u001b[1;32m      4\u001b[0m \u001b[0murl\u001b[0m \u001b[0;34m=\u001b[0m \u001b[0;34m'https://accounts.spotify.com/api/token'\u001b[0m\u001b[0;34m\u001b[0m\u001b[0;34m\u001b[0m\u001b[0m\n\u001b[0;32m----> 5\u001b[0;31m \u001b[0mauth_data\u001b[0m \u001b[0;34m=\u001b[0m \u001b[0mrequests\u001b[0m\u001b[0;34m.\u001b[0m\u001b[0mpost\u001b[0m\u001b[0;34m(\u001b[0m\u001b[0murl\u001b[0m\u001b[0;34m,\u001b[0m \u001b[0mdata\u001b[0m\u001b[0;34m=\u001b[0m\u001b[0mbody_params\u001b[0m\u001b[0;34m,\u001b[0m \u001b[0mauth\u001b[0m\u001b[0;34m=\u001b[0m\u001b[0;34m(\u001b[0m\u001b[0mclient_id\u001b[0m\u001b[0;34m,\u001b[0m \u001b[0mclient_secret\u001b[0m\u001b[0;34m)\u001b[0m\u001b[0;34m)\u001b[0m\u001b[0;34m.\u001b[0m\u001b[0mjson\u001b[0m\u001b[0;34m(\u001b[0m\u001b[0;34m)\u001b[0m\u001b[0;34m\u001b[0m\u001b[0;34m\u001b[0m\u001b[0m\n\u001b[0m\u001b[1;32m      6\u001b[0m \u001b[0mauth_data\u001b[0m\u001b[0;34m\u001b[0m\u001b[0;34m\u001b[0m\u001b[0m\n",
            "\u001b[0;31mNameError\u001b[0m: name 'requests' is not defined"
          ]
        }
      ]
    },
    {
      "cell_type": "code",
      "source": [
        "# We will be using now the access_token to authenticate our app with Spotify\n",
        "#\n",
        "# We test this API call https://developer.spotify.com/web-api/search-item/\n",
        "url = 'https://api.spotify.com/v1/search'\n",
        "auth_header = {'Authorization': 'Bearer ' + auth_data['access_token']}\n",
        "parameters = {\n",
        "    \"q\"     : \"Taylor Swift\",\n",
        "    \"type\"  : \"artist\",\n",
        "    \"limit\" : 50\n",
        "}\n",
        "response = requests.get(url, headers=auth_header, params=parameters).json()\n",
        "response\n"
      ],
      "metadata": {
        "colab": {
          "base_uri": "https://localhost:8080/",
          "height": 211
        },
        "id": "GGa0kpi35v96",
        "outputId": "27846247-eb7e-49f4-8de9-5d46f039f1f1"
      },
      "execution_count": 3,
      "outputs": [
        {
          "output_type": "error",
          "ename": "NameError",
          "evalue": "name 'auth_data' is not defined",
          "traceback": [
            "\u001b[0;31m---------------------------------------------------------------------------\u001b[0m",
            "\u001b[0;31mNameError\u001b[0m                                 Traceback (most recent call last)",
            "\u001b[0;32m<ipython-input-3-216798cebbb8>\u001b[0m in \u001b[0;36m<cell line: 0>\u001b[0;34m()\u001b[0m\n\u001b[1;32m      3\u001b[0m \u001b[0;31m# We test this API call https://developer.spotify.com/web-api/search-item/\u001b[0m\u001b[0;34m\u001b[0m\u001b[0;34m\u001b[0m\u001b[0m\n\u001b[1;32m      4\u001b[0m \u001b[0murl\u001b[0m \u001b[0;34m=\u001b[0m \u001b[0;34m'https://api.spotify.com/v1/search'\u001b[0m\u001b[0;34m\u001b[0m\u001b[0;34m\u001b[0m\u001b[0m\n\u001b[0;32m----> 5\u001b[0;31m \u001b[0mauth_header\u001b[0m \u001b[0;34m=\u001b[0m \u001b[0;34m{\u001b[0m\u001b[0;34m'Authorization'\u001b[0m\u001b[0;34m:\u001b[0m \u001b[0;34m'Bearer '\u001b[0m \u001b[0;34m+\u001b[0m \u001b[0mauth_data\u001b[0m\u001b[0;34m[\u001b[0m\u001b[0;34m'access_token'\u001b[0m\u001b[0;34m]\u001b[0m\u001b[0;34m}\u001b[0m\u001b[0;34m\u001b[0m\u001b[0;34m\u001b[0m\u001b[0m\n\u001b[0m\u001b[1;32m      6\u001b[0m parameters = {\n\u001b[1;32m      7\u001b[0m     \u001b[0;34m\"q\"\u001b[0m     \u001b[0;34m:\u001b[0m \u001b[0;34m\"Taylor Swift\"\u001b[0m\u001b[0;34m,\u001b[0m\u001b[0;34m\u001b[0m\u001b[0;34m\u001b[0m\u001b[0m\n",
            "\u001b[0;31mNameError\u001b[0m: name 'auth_data' is not defined"
          ]
        }
      ]
    },
    {
      "cell_type": "code",
      "source": [
        "response.keys()\n",
        "response['artists'].keys()\n",
        "response['artists']['next']\n",
        "response['artists']['total']\n",
        "response['artists']['items']"
      ],
      "metadata": {
        "id": "f6ZQPGKN55Mu"
      },
      "execution_count": null,
      "outputs": []
    },
    {
      "cell_type": "code",
      "source": [
        "# Let's take a look at the first returned result\n",
        "first_returned_artist = response['artists']['items'][0]\n"
      ],
      "metadata": {
        "id": "_2VeO_rV6KXX"
      },
      "execution_count": null,
      "outputs": []
    },
    {
      "cell_type": "code",
      "source": [
        "first_returned_artist.keys()"
      ],
      "metadata": {
        "id": "dHnMZ8vV6OGz"
      },
      "execution_count": null,
      "outputs": []
    },
    {
      "cell_type": "code",
      "source": [
        "first_returned_artist['id']\n",
        "first_returned_artist['name']\n",
        "first_returned_artist['external_urls']\n",
        "first_returned_artist['followers']\n",
        "first_returned_artist['popularity']"
      ],
      "metadata": {
        "id": "Itv_PyAW6R6J"
      },
      "execution_count": null,
      "outputs": []
    },
    {
      "cell_type": "code",
      "source": [
        "# Now, let's create a dataframe to see all the returned data\n",
        "import pandas as pd\n",
        "\n",
        "df = pd.DataFrame(response['artists']['items'])\n",
        "df"
      ],
      "metadata": {
        "id": "Scna43eV6XeL"
      },
      "execution_count": null,
      "outputs": []
    },
    {
      "cell_type": "code",
      "source": [
        "# And we will use json_normalize to flatten the elements that are dictionaries\n",
        "# We will still have elements that contain lists\n",
        "from pandas import json_normalize\n",
        "\n",
        "df_normalized = json_normalize(response['artists']['items'])\n",
        "df_normalized.dtypes"
      ],
      "metadata": {
        "id": "zSJnjuO96cY3"
      },
      "execution_count": null,
      "outputs": []
    },
    {
      "cell_type": "code",
      "source": [
        "df_normalized"
      ],
      "metadata": {
        "id": "f498H21Z6iyl"
      },
      "execution_count": null,
      "outputs": []
    },
    {
      "cell_type": "code",
      "source": [
        "!pip install spotipy\n"
      ],
      "metadata": {
        "colab": {
          "base_uri": "https://localhost:8080/"
        },
        "id": "nahntzJ76npy",
        "outputId": "28324a2b-2518-4cd4-dae5-04691c3896b3"
      },
      "execution_count": 4,
      "outputs": [
        {
          "output_type": "stream",
          "name": "stdout",
          "text": [
            "Collecting spotipy\n",
            "  Downloading spotipy-2.25.1-py3-none-any.whl.metadata (5.1 kB)\n",
            "Collecting redis>=3.5.3 (from spotipy)\n",
            "  Downloading redis-5.2.1-py3-none-any.whl.metadata (9.1 kB)\n",
            "Requirement already satisfied: requests>=2.25.0 in /usr/local/lib/python3.11/dist-packages (from spotipy) (2.32.3)\n",
            "Requirement already satisfied: urllib3>=1.26.0 in /usr/local/lib/python3.11/dist-packages (from spotipy) (2.3.0)\n",
            "Requirement already satisfied: charset-normalizer<4,>=2 in /usr/local/lib/python3.11/dist-packages (from requests>=2.25.0->spotipy) (3.4.1)\n",
            "Requirement already satisfied: idna<4,>=2.5 in /usr/local/lib/python3.11/dist-packages (from requests>=2.25.0->spotipy) (3.10)\n",
            "Requirement already satisfied: certifi>=2017.4.17 in /usr/local/lib/python3.11/dist-packages (from requests>=2.25.0->spotipy) (2025.1.31)\n",
            "Downloading spotipy-2.25.1-py3-none-any.whl (31 kB)\n",
            "Downloading redis-5.2.1-py3-none-any.whl (261 kB)\n",
            "\u001b[2K   \u001b[90m━━━━━━━━━━━━━━━━━━━━━━━━━━━━━━━━━━━━━━━━\u001b[0m \u001b[32m261.5/261.5 kB\u001b[0m \u001b[31m6.1 MB/s\u001b[0m eta \u001b[36m0:00:00\u001b[0m\n",
            "\u001b[?25hInstalling collected packages: redis, spotipy\n",
            "Successfully installed redis-5.2.1 spotipy-2.25.1\n"
          ]
        }
      ]
    },
    {
      "cell_type": "code",
      "source": [
        "import spotipy\n",
        "from spotipy.oauth2 import SpotifyClientCredentials\n",
        "\n",
        "# Set up your credentials\n",
        "# client_id = 'YOUR_CLIENT_ID'\n",
        "# client_secret = 'YOUR_CLIENT_SECRET'\n",
        "\n",
        "# Authentication\n",
        "auth_manager = SpotifyClientCredentials(client_id=client_id, client_secret=client_secret)\n",
        "sp = spotipy.Spotify(auth_manager=auth_manager)\n",
        "\n",
        "# Get top artists globally\n",
        "def get_top_artists(limit=20):\n",
        "    results = sp.search(q='genre:pop', type='artist', limit=limit)\n",
        "    top_artists = []\n",
        "    for item in results['artists']['items']:\n",
        "        top_artists.append({\n",
        "            'name': item['name'],\n",
        "            'popularity': item['popularity'],\n",
        "            'genres': item['genres']\n",
        "        })\n",
        "    return top_artists\n",
        "\n",
        "# Example usage\n",
        "top_artists = get_top_artists()\n",
        "for i, artist in enumerate(top_artists, 1):\n",
        "    print(f\"{i}. {artist['name']} - Popularity: {artist['popularity']} - Genres: {', '.join(artist['genres'])}\")"
      ],
      "metadata": {
        "colab": {
          "base_uri": "https://localhost:8080/"
        },
        "id": "WjNCGXru6t8u",
        "outputId": "dae5c38d-f0ec-4f05-cf5f-99bc26ffaf33"
      },
      "execution_count": 5,
      "outputs": [
        {
          "output_type": "stream",
          "name": "stdout",
          "text": [
            "1. Drake - Popularity: 98 - Genres: rap, hip hop\n",
            "2. Taylor Swift - Popularity: 97 - Genres: \n",
            "3. The Weeknd - Popularity: 97 - Genres: \n",
            "4. SZA - Popularity: 95 - Genres: r&b\n",
            "5. Billie Eilish - Popularity: 95 - Genres: \n",
            "6. Lady Gaga - Popularity: 94 - Genres: art pop, pop\n",
            "7. Tate McRae - Popularity: 91 - Genres: \n",
            "8. Bruno Mars - Popularity: 95 - Genres: \n",
            "9. Sabrina Carpenter - Popularity: 92 - Genres: \n",
            "10. Lil Wayne - Popularity: 89 - Genres: rap, hip hop\n",
            "11. Ariana Grande - Popularity: 92 - Genres: pop\n",
            "12. Rihanna - Popularity: 92 - Genres: \n",
            "13. Post Malone - Popularity: 89 - Genres: \n",
            "14. Chappell Roan - Popularity: 88 - Genres: \n",
            "15. Lana Del Rey - Popularity: 91 - Genres: \n",
            "16. Noah Kahan - Popularity: 85 - Genres: \n",
            "17. Rauw Alejandro - Popularity: 91 - Genres: reggaeton, urbano latino, trap latino, latin\n",
            "18. Justin Bieber - Popularity: 91 - Genres: \n",
            "19. Hozier - Popularity: 86 - Genres: \n",
            "20. Nicki Minaj - Popularity: 87 - Genres: \n"
          ]
        }
      ]
    }
  ]
}