{
  "nbformat": 4,
  "nbformat_minor": 0,
  "metadata": {
    "colab": {
      "provenance": [],
      "authorship_tag": "ABX9TyPJkTOwGlWKcIigC5VQQ+TE",
      "include_colab_link": true
    },
    "kernelspec": {
      "name": "python3",
      "display_name": "Python 3"
    },
    "language_info": {
      "name": "python"
    }
  },
  "cells": [
    {
      "cell_type": "markdown",
      "metadata": {
        "id": "view-in-github",
        "colab_type": "text"
      },
      "source": [
        "<a href=\"https://colab.research.google.com/github/mb8655/Python/blob/main/Accessing_Web_APIs_using_Python.ipynb\" target=\"_parent\"><img src=\"https://colab.research.google.com/assets/colab-badge.svg\" alt=\"Open In Colab\"/></a>"
      ]
    },
    {
      "cell_type": "markdown",
      "source": [
        "#Interacting with Web APIs\n",
        "We are going to examine now the concept of a Web API. A web API is similar to a function call, but the \"function\" that we call is located in another machine, and we submit the parameters of the function through the web.\n",
        "\n",
        "##First Example: GeoIP resolution\n",
        "We will start with an example that is doing a \"geoIP\" resolution: it takes the IP of a computer and returns back its location."
      ],
      "metadata": {
        "id": "tc_8gF5feuDt"
      }
    },
    {
      "cell_type": "code",
      "execution_count": 3,
      "metadata": {
        "id": "TRR6j1eqdd3L"
      },
      "outputs": [],
      "source": [
        "# create keys\n",
        "ipstack_api_key = UPDATE WITH KEY\n",
        "openweathermap_key = UPDATE WITH KEY"
      ]
    },
    {
      "cell_type": "code",
      "source": [
        "# import the library\n",
        "import requests\n",
        "\n",
        "url = f'http://api.ipstack.com/check?access_key={ipstack_api_key}'\n",
        "response = requests.get(url)\n",
        "response.json()"
      ],
      "metadata": {
        "colab": {
          "base_uri": "https://localhost:8080/"
        },
        "id": "BfmUzlsCfAff",
        "outputId": "28940121-08e4-4f50-e99f-8dc10e13813a"
      },
      "execution_count": 4,
      "outputs": [
        {
          "output_type": "execute_result",
          "data": {
            "text/plain": [
              "{'ip': '34.136.206.40',\n",
              " 'type': 'ipv4',\n",
              " 'continent_code': 'NA',\n",
              " 'continent_name': 'North America',\n",
              " 'country_code': 'US',\n",
              " 'country_name': 'United States',\n",
              " 'region_code': 'IA',\n",
              " 'region_name': 'Iowa',\n",
              " 'city': 'Council Bluffs',\n",
              " 'zip': '51501',\n",
              " 'latitude': 41.26192092895508,\n",
              " 'longitude': -95.86762237548828,\n",
              " 'msa': '36540',\n",
              " 'dma': '652',\n",
              " 'radius': None,\n",
              " 'ip_routing_type': 'fixed',\n",
              " 'connection_type': 'tx',\n",
              " 'location': {'geoname_id': 4852832,\n",
              "  'capital': 'Washington D.C.',\n",
              "  'languages': [{'code': 'en', 'name': 'English', 'native': 'English'}],\n",
              "  'country_flag': 'https://assets.ipstack.com/flags/us.svg',\n",
              "  'country_flag_emoji': '🇺🇸',\n",
              "  'country_flag_emoji_unicode': 'U+1F1FA U+1F1F8',\n",
              "  'calling_code': '1',\n",
              "  'is_eu': False}}"
            ]
          },
          "metadata": {},
          "execution_count": 4
        }
      ]
    },
    {
      "cell_type": "code",
      "source": [
        "# view the content of the response\n",
        "response.text"
      ],
      "metadata": {
        "colab": {
          "base_uri": "https://localhost:8080/",
          "height": 71
        },
        "id": "cCz0mFVigD7y",
        "outputId": "08ee493e-d25b-4bcc-d7bf-0fb700e99f7c"
      },
      "execution_count": 5,
      "outputs": [
        {
          "output_type": "execute_result",
          "data": {
            "text/plain": [
              "'{\"ip\": \"34.136.206.40\", \"type\": \"ipv4\", \"continent_code\": \"NA\", \"continent_name\": \"North America\", \"country_code\": \"US\", \"country_name\": \"United States\", \"region_code\": \"IA\", \"region_name\": \"Iowa\", \"city\": \"Council Bluffs\", \"zip\": \"51501\", \"latitude\": 41.26192092895508, \"longitude\": -95.86762237548828, \"msa\": \"36540\", \"dma\": \"652\", \"radius\": null, \"ip_routing_type\": \"fixed\", \"connection_type\": \"tx\", \"location\": {\"geoname_id\": 4852832, \"capital\": \"Washington D.C.\", \"languages\": [{\"code\": \"en\", \"name\": \"English\", \"native\": \"English\"}], \"country_flag\": \"https://assets.ipstack.com/flags/us.svg\", \"country_flag_emoji\": \"\\\\ud83c\\\\uddfa\\\\ud83c\\\\uddf8\", \"country_flag_emoji_unicode\": \"U+1F1FA U+1F1F8\", \"calling_code\": \"1\", \"is_eu\": false}}'"
            ],
            "application/vnd.google.colaboratory.intrinsic+json": {
              "type": "string"
            }
          },
          "metadata": {},
          "execution_count": 5
        }
      ]
    },
    {
      "cell_type": "code",
      "source": [
        "# transform Json file into a python dict object\n",
        "#use response.jason()\n",
        "data = response.json()\n",
        "data"
      ],
      "metadata": {
        "colab": {
          "base_uri": "https://localhost:8080/"
        },
        "id": "Dr5S8auvgMdr",
        "outputId": "f2b1f790-4eb6-4147-ff2c-3fd8a62aac56"
      },
      "execution_count": 10,
      "outputs": [
        {
          "output_type": "execute_result",
          "data": {
            "text/plain": [
              "{'ip': '34.136.206.40',\n",
              " 'type': 'ipv4',\n",
              " 'continent_code': 'NA',\n",
              " 'continent_name': 'North America',\n",
              " 'country_code': 'US',\n",
              " 'country_name': 'United States',\n",
              " 'region_code': 'IA',\n",
              " 'region_name': 'Iowa',\n",
              " 'city': 'Council Bluffs',\n",
              " 'zip': '51501',\n",
              " 'latitude': 41.26192092895508,\n",
              " 'longitude': -95.86762237548828,\n",
              " 'msa': '36540',\n",
              " 'dma': '652',\n",
              " 'radius': None,\n",
              " 'ip_routing_type': 'fixed',\n",
              " 'connection_type': 'tx',\n",
              " 'location': {'geoname_id': 4852832,\n",
              "  'capital': 'Washington D.C.',\n",
              "  'languages': [{'code': 'en', 'name': 'English', 'native': 'English'}],\n",
              "  'country_flag': 'https://assets.ipstack.com/flags/us.svg',\n",
              "  'country_flag_emoji': '🇺🇸',\n",
              "  'country_flag_emoji_unicode': 'U+1F1FA U+1F1F8',\n",
              "  'calling_code': '1',\n",
              "  'is_eu': False}}"
            ]
          },
          "metadata": {},
          "execution_count": 10
        }
      ]
    },
    {
      "cell_type": "code",
      "source": [
        "#access the fields of the json like any other python dictionary\n",
        "print('Lon', data['longitude'],'Lat', data['latitude'])\n"
      ],
      "metadata": {
        "colab": {
          "base_uri": "https://localhost:8080/"
        },
        "id": "5CdygnSOjkvj",
        "outputId": "373bf142-f697-408f-b0fb-543fcb3d93c5"
      },
      "execution_count": 11,
      "outputs": [
        {
          "output_type": "stream",
          "name": "stdout",
          "text": [
            "Lon -95.86762237548828 Lat 41.26192092895508\n"
          ]
        }
      ]
    },
    {
      "cell_type": "code",
      "source": [
        "#more examples\n",
        "print('City', data['city'])\n",
        "print('Region', data['region_name'], data['region_code'])\n",
        "print('Zipcode', data['zip'])"
      ],
      "metadata": {
        "colab": {
          "base_uri": "https://localhost:8080/"
        },
        "id": "KR6aU4Nummgq",
        "outputId": "243ad22e-f401-4f19-ff1c-ab0a9de44d65"
      },
      "execution_count": 12,
      "outputs": [
        {
          "output_type": "stream",
          "name": "stdout",
          "text": [
            "City Council Bluffs\n",
            "Region Iowa IA\n",
            "Zipcode 51501\n"
          ]
        }
      ]
    },
    {
      "cell_type": "code",
      "source": [
        "#write the above code in one cell\n",
        "import requests\n",
        "url = f'http://api.ipstack.com/check?access_key={ipstack_api_key}'\n",
        "resp = requests.get(url)\n",
        "data = resp.json()\n",
        "print(\"Lon:\", data[\"longitude\"], \"Lat:\", data[\"latitude\"])\n",
        "print(\"City:\", data[\"city\"])\n",
        "print(\"Region:\", data[\"region_name\"], data[\"region_code\"])\n",
        "print(\"Zipcode:\", data[\"zip\"])"
      ],
      "metadata": {
        "colab": {
          "base_uri": "https://localhost:8080/"
        },
        "id": "FwJLThsrm95Y",
        "outputId": "30c5894a-dea5-4143-8c55-4fc79a52052d"
      },
      "execution_count": 13,
      "outputs": [
        {
          "output_type": "stream",
          "name": "stdout",
          "text": [
            "Lon: -95.86762237548828 Lat: 41.26192092895508\n",
            "City: Council Bluffs\n",
            "Region: Iowa IA\n",
            "Zipcode: 51501\n"
          ]
        }
      ]
    },
    {
      "cell_type": "markdown",
      "source": [
        "#Using Parameters with API Calls\n",
        "The first API call that we tried was very simple. We just fetched a URL. Now let's see a URL that accepts as input a set of parameters. We have already seen this concept with functions; the parameters of the API calls are the exact equivalent but for Web APIs, which are, at their core, functions that we call over the web.\n",
        "\n",
        "Example: OpenWeatherMap\n",
        "Let's try to query OpenWeatherMap now, to get data about the weather. Documentation.\n",
        "\n",
        "Below you can find the URL that you can copy and paste in your browser, to get the weather for the lat/lon coordinates (40.728955, -73.996154) (i.e., the Stern building).\n",
        "\n",
        "You will notice that it contains parameters as part of the URL, including an appid which is a key that is used to limit the number of calls that can be issued by a single application.\n",
        "\n",
        "Try the URL in your browser.\n",
        "\n",
        "Below you can find the same code, but now we have a Python dictionary to organize and list the parameters."
      ],
      "metadata": {
        "id": "NFpFqHcanW-C"
      }
    },
    {
      "cell_type": "code",
      "source": [
        "import requests\n",
        "\n",
        "openweathermap_url = \"https://api.openweathermap.org/data/3.0/onecall\"\n",
        "parameters = {\n",
        "    'lat'   : 40.728955,\n",
        "    'lon'   : -73.996154,\n",
        "    'units' : 'imperial',\n",
        "    'exclude' : 'minutely,hourly,daily',\n",
        "    'mode'  : 'json',\n",
        "    'appid' : openweathermap_key\n",
        "}\n",
        "resp = requests.get(openweathermap_url, params=parameters)\n",
        "data = resp.json()\n",
        "data"
      ],
      "metadata": {
        "id": "6H5SfdXgnWmu"
      },
      "execution_count": null,
      "outputs": []
    },
    {
      "cell_type": "code",
      "source": [
        "# extrat temp using the json response\n",
        "print(f'Temperature: {data['current']['temp']}F')\n"
      ],
      "metadata": {
        "id": "uwH0OXj6ozEB"
      },
      "execution_count": null,
      "outputs": []
    },
    {
      "cell_type": "code",
      "source": [
        "#pull description of the current weather\n",
        "print(f'Description: {data['current']['weather'][0]['description']}')\n"
      ],
      "metadata": {
        "id": "17bQ9IHspFqB"
      },
      "execution_count": null,
      "outputs": []
    },
    {
      "cell_type": "code",
      "source": [
        "#change the units to \"metric\"\n",
        "import requests\n",
        "\n",
        "openweathermap_url = \"https://api.openweathermap.org/data/3.0/onecall\"\n",
        "parameters = {\n",
        "    'lat'   : 40.728955,\n",
        "    'lon'   : -73.996154,\n",
        "    'units' : 'metric',\n",
        "    'exclude' : 'minutely,hourly,daily',\n",
        "    'mode'  : 'json',\n",
        "    'appid' : openweathermap_key\n",
        "}\n",
        "resp = requests.get(openweathermap_url, params=parameters)\n",
        "data = resp.json()\n",
        "data"
      ],
      "metadata": {
        "id": "y2Y7RbippbDV"
      },
      "execution_count": null,
      "outputs": []
    },
    {
      "cell_type": "code",
      "source": [
        "#read location of comp using the GeoIP API and the weather api to return the weather of your location\n",
        "\n",
        "import requests\n",
        "\n",
        "#query geo API first, and keep parts of the results taht we need including lon and lat\n",
        "geoip_url = f'http://api.ipstack.com/check?access_key={ipstack_api_key}'\n",
        "resp = requests.get(geoip_url)\n",
        "geoip_data = resp.json()\n",
        "lat = geoip_data['latitude']\n",
        "lon = geoip_data['longitude']\n",
        "city = geoip_data['city']\n",
        "state = geoip_data['region_code']\n",
        "zip = geoip_data['zip']\n",
        "\n",
        "#query openweather for the lat/lon of the geoip\n",
        "openweathermap_url = \"https://api.openweathermap.org/data/3.0/onecall\"\n",
        "parameters = {\n",
        "    'lat'   : lat,\n",
        "    'lon'   : lon,\n",
        "    'units' : 'imperial',\n",
        "    'exclude' : 'minutely,hourly,daily',\n",
        "    'mode'  : 'json',\n",
        "    'appid' : openweathermap_key\n",
        "}\n",
        "\n",
        "response = requests.get(openweathermap_url, params=parameters)\n",
        "weather_data = response.json()\n",
        "weather_description = weather_data['current']['weather'][0]['description']\n",
        "current_temp = weather_data['current']['temp']\n",
        "\n",
        "\n",
        "\n",
        "# print out the results\n",
        "print(f'Location:' city, state, zipcode)\n",
        "print(f'Weather:' weather_data['current']['weather'][0]['description'])\n",
        "print(f'Temperature:' data['current'['temp'])"
      ],
      "metadata": {
        "id": "8L1bsvKEp1CM"
      },
      "execution_count": null,
      "outputs": []
    }
  ]
}