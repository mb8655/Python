{
  "nbformat": 4,
  "nbformat_minor": 0,
  "metadata": {
    "colab": {
      "provenance": [],
      "authorship_tag": "ABX9TyMyzcqxmRFJtFqRqZMY56mK",
      "include_colab_link": true
    },
    "kernelspec": {
      "name": "python3",
      "display_name": "Python 3"
    },
    "language_info": {
      "name": "python"
    }
  },
  "cells": [
    {
      "cell_type": "markdown",
      "metadata": {
        "id": "view-in-github",
        "colab_type": "text"
      },
      "source": [
        "<a href=\"https://colab.research.google.com/github/mb8655/Python/blob/main/IBM_Watson_Natural_Language_API.ipynb\" target=\"_parent\"><img src=\"https://colab.research.google.com/assets/colab-badge.svg\" alt=\"Open In Colab\"/></a>"
      ]
    },
    {
      "cell_type": "markdown",
      "source": [
        "#Interacting with the IBM Watson Natural Language Understanding API\n",
        "Another useful API, especially when dealing with text, is the IBM Watson Natural Language Understanding API, which offers a variety of text analysis functionalities, such as sentiment analysis, entity extraction, keyword extraction, etc.\n",
        "\n",
        "We will give a couple of examples below, to understand how we can take an unstructured piece of text (either the text alone, or a URL with text), and perform some analysis.\n",
        "\n",
        "Sentiment ana emotion analysis\n",
        "We will first start with the /analyze API call (documentation), which takes as input a piece of text, and returns an analysis across various dimensions.\n",
        "\n",
        "The API supports the following analyses:\n",
        "\n",
        "categories,classifications,concepts,emotion,entities,keywords,metadata,relations,semantic_roles,sentiment,summarization (experimental),syntax\n",
        "\n",
        "The API supports not only English, but also a variety of non-English languages.\n",
        "\n",
        "In our introductory attempt, we will use the sentiment and emotion and focus on English texts."
      ],
      "metadata": {
        "id": "Wbs2z_zBBMAc"
      }
    },
    {
      "cell_type": "code",
      "execution_count": 1,
      "metadata": {
        "id": "sjGcYNOiBLFm"
      },
      "outputs": [],
      "source": [
        "import requests"
      ]
    },
    {
      "cell_type": "code",
      "source": [
        "def analyzeText(text=None, url=None):\n",
        "  '''\n",
        "  This function gets as input either a piece of text or a URL\n",
        "  and then contacts the IBM Watson NLU API to perform sentiment\n",
        "  and emotion analysis on the text/url.\n",
        "  '''\n",
        "\n",
        "  # Pointers to the IBM Server that we will use for the\n",
        "  # endpointn and the API key provided by IBM.\n",
        "  # This is my own, personal IBM_SERVER_URL and IBM_API_KEY\n",
        "  #\n",
        "  # You probably should can register and get your own credentials\n",
        "  # The ones below have a quota of 1000 calls per day\n",
        "  # and can run out quickly if multiple people use these\n",
        "  #\n",
        "  # Follow the instructions at https://ibm.co/3qHrb5n to get your credentials\n",
        "\n",
        "  IBM_SERVER_URL = 'https://api.us-east.natural-language-understanding.watson.cloud.ibm.com/instances/7955e520-ee3e-4435-917f-f2e626d7b297'\n",
        "  IBM_API_KEY = 'ipYHoxag1pB7bkURAGAnZUaOstg05h8_jsgL4io_Co1l'\n",
        "\n",
        "  endpoint = f\"{IBM_SERVER_URL}/v1/analyze\"\n",
        "  username = \"apikey\"\n",
        "  password = IBM_API_KEY\n",
        "\n",
        "  parameters = {\n",
        "      'features': 'emotion,sentiment',\n",
        "      'version' : '2022-04-07',\n",
        "      'text': text,\n",
        "      'language' : 'en',\n",
        "      'url' : url # this is an alternative to sending the text\n",
        "  }\n",
        "\n",
        "  resp = requests.get(endpoint, params=parameters, auth=(username, password))\n",
        "\n",
        "  return resp.json()"
      ],
      "metadata": {
        "id": "oBmDonhJGQv1"
      },
      "execution_count": 2,
      "outputs": []
    },
    {
      "cell_type": "code",
      "source": [
        "# We will analyze the text below using the IBM Watson API\n",
        "\n",
        "review = '''\n",
        "I got their Egg & Cheese sandwich on a Whole Wheat Everything Bagel.\n",
        "First off, I loved loved loved the texture of the bagel itself.\n",
        "It was very chewy yet soft, which is a top feature for a NY style bagel.\n",
        "However, I thought there could've been more seasoning on top of\n",
        "the bagel as I found the bagel itself to be a bit bland.\n",
        "\n",
        "Speaking of bland, I thought the egg and cheese filling were also quite bland.\n",
        "This was definitely lacking salt and pepper in the eggs and the cheese didn't\n",
        "really add too much flavor either, which was really disappointing!\n",
        "My mom also had the same complaint with her bagel sandwich\n",
        "(she had the egg sandwich on a blueberry bagel) so I definitely wasn't\n",
        "the only one.\n",
        "\n",
        "'''"
      ],
      "metadata": {
        "id": "TCrptn5DGkON"
      },
      "execution_count": 3,
      "outputs": []
    },
    {
      "cell_type": "code",
      "source": [
        "data = analyzeText(text=review)\n",
        "data"
      ],
      "metadata": {
        "colab": {
          "base_uri": "https://localhost:8080/"
        },
        "id": "8b_xm_wsGqPh",
        "outputId": "6315d8db-8b2f-4de8-8622-e0a10c8f73a1"
      },
      "execution_count": 4,
      "outputs": [
        {
          "output_type": "execute_result",
          "data": {
            "text/plain": [
              "{'more_info': 'https://cloud.ibm.com/docs/watson?topic=watson-authorization-error',\n",
              " 'code': 401,\n",
              " 'trace': 'def9a419-e0ab-4c88-bf7a-ad3e3cf01f0d',\n",
              " 'error': 'Unauthorized'}"
            ]
          },
          "metadata": {},
          "execution_count": 4
        }
      ]
    },
    {
      "cell_type": "code",
      "source": [
        "#Now, let's try to understand the structure of the answer. First, we check the high-level keys.\n",
        "\n",
        "data.keys()"
      ],
      "metadata": {
        "id": "GBjI50ucHi-3"
      },
      "execution_count": null,
      "outputs": []
    },
    {
      "cell_type": "code",
      "source": [
        "# check the content of these keys:\n",
        "\n",
        "data['language']\n",
        "data['sentiment']\n",
        "data['emotion']\n",
        "# Let's go deeper into the 'emotion' dictionary\n",
        "data['emotion']['document']\n",
        "# And a bit more\n",
        "data['emotion']['document']['emotion']"
      ],
      "metadata": {
        "id": "j-XLeV1WHmoU"
      },
      "execution_count": null,
      "outputs": []
    },
    {
      "cell_type": "markdown",
      "source": [
        "##URL to analyze, instead of a piece of text. Use it to analyze a URL of your choice"
      ],
      "metadata": {
        "id": "cFp01W2HH4Cl"
      }
    },
    {
      "cell_type": "code",
      "source": [
        "news_url = 'https://www.wsj.com/articles/june-jobs-report-unemployment-rate-economy-growth-2022-11657237512'\n",
        "analyzeText(url = news_url)"
      ],
      "metadata": {
        "id": "HDz7E6AJH8w1"
      },
      "execution_count": null,
      "outputs": []
    },
    {
      "cell_type": "markdown",
      "source": [
        "##Entities call\n",
        "The code below changes slightly the way that we way that we call the API. Instead of asking for sentiment and emotion, we instead ask to extract entities from the text, and also the sentiment and emotion for each of these entities.\n",
        "\n",
        "In terms of natural language processing, we will examine a couple of capabilities of the API. First, you will see that there is the capability of \"normalizing\" each entity, so that two different ways of saying the same thing get mapped to the same entity. So for example, \"President Trump\" and \"Donald Trump\" get mapped to the same Knowledge Graph entity."
      ],
      "metadata": {
        "id": "xtD0nR0vH8Sf"
      }
    },
    {
      "cell_type": "code",
      "source": [
        "def extractEntities(text=None, url=None):\n",
        "\n",
        "    IBM_SERVER_URL = 'https://api.us-south.natural-language-understanding.watson.cloud.ibm.com/instances/9e683088-0d12-4399-8118-518f3e60e8c4'\n",
        "    IBM_API_KEY = 'yx39wyiwPNGm7DoDUPCSJB4SzFkr0qurARfbGYyEdaoC'\n",
        "\n",
        "    endpoint = f\"{IBM_SERVER_URL}/v1/analyze\"\n",
        "    username = \"apikey\"\n",
        "    password = IBM_API_KEY\n",
        "\n",
        "    parameters = {\n",
        "        'features': 'entities',\n",
        "        'version' : '2022-04-07',\n",
        "        'entities.limit' : 10,\n",
        "        'entities.sentiment' : True,\n",
        "        'entities.emotion' : True,\n",
        "        'text': text,\n",
        "        'language' : 'en',\n",
        "        'url' : url # this is an alternative to sending the text\n",
        "    }\n",
        "\n",
        "    resp = requests.get(endpoint, params=parameters, auth=(username, password))\n",
        "\n",
        "    return resp.json()"
      ],
      "metadata": {
        "id": "W_LN5zzbIMqM"
      },
      "execution_count": 5,
      "outputs": []
    },
    {
      "cell_type": "code",
      "source": [
        "news_url = 'https://www.nytimes.com/2022/05/21/world/europe/kirill-putin-russian-orthodox-church.html'\n",
        "\n",
        "data = extractEntities(url=news_url)\n",
        "data"
      ],
      "metadata": {
        "colab": {
          "base_uri": "https://localhost:8080/"
        },
        "id": "dkEOOWsvISdI",
        "outputId": "4d2f715d-aca3-4e76-9f35-614d4495cbed"
      },
      "execution_count": 6,
      "outputs": [
        {
          "output_type": "execute_result",
          "data": {
            "text/plain": [
              "{'error': 'Unauthorized',\n",
              " 'code': 401,\n",
              " 'more_info': 'https://cloud.ibm.com/docs/watson?topic=watson-authorization-error',\n",
              " 'trace': '7cc3054b-7a7c-4d36-8abb-603f6ebbef6d'}"
            ]
          },
          "metadata": {},
          "execution_count": 6
        }
      ]
    },
    {
      "cell_type": "code",
      "source": [
        "# Let's see what we get back as top-level attributes\n",
        "data.keys()\n",
        "# Let' see the entities list\n",
        "data[\"entities\"]\n",
        "# Let' see the 7th entity. Notice the \"disambiguated\" attribute that\n",
        "# points to \"canonical\" versions of the entity, in DBPedia\n",
        "# Notice that \"Patriarch Kirill\"\" is the actual term used in the text\n",
        "data[\"entities\"][6]\n",
        "# Let's put the results in a dataframe, so that we can browse easier\n",
        "import pandas as pd\n",
        "\n",
        "pd.json_normalize(data['entities'])"
      ],
      "metadata": {
        "id": "D-bxOJ4zIWHR"
      },
      "execution_count": null,
      "outputs": []
    }
  ]
}